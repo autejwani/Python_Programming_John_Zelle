{
  "nbformat": 4,
  "nbformat_minor": 0,
  "metadata": {
    "colab": {
      "name": "Chapter 2.ipynb",
      "provenance": []
    },
    "kernelspec": {
      "name": "python3",
      "display_name": "Python 3"
    }
  },
  "cells": [
    {
      "cell_type": "code",
      "metadata": {
        "id": "e3zhZJo387hH",
        "colab_type": "code",
        "colab": {}
      },
      "source": [
        "def ex1():\n",
        "    cels = eval(input(\"What is the Celsius temperature? \"))\n",
        "    fahren = 9.0 / 5.0 * cels + 32\n",
        "    print(\"The temperature is\", fahren, \"degrees Fahrenheit.\")\n",
        "\n",
        "ex1()\n"
      ],
      "execution_count": null,
      "outputs": []
    },
    {
      "cell_type": "code",
      "metadata": {
        "id": "G9GhWuXd9HAK",
        "colab_type": "code",
        "colab": {}
      },
      "source": [
        "def ex2():\n",
        "    cels = eval(input(\"What is the Celsius temperature? \"))\n",
        "    fahren = 9/5 * cels + 32\n",
        "    print(\"The temperature is\", fahren, \"degrees Fahrenheit.\")\n",
        "    input(\"Press the <Enter> key to quit the program.\")\n",
        "\n",
        "ex2()"
      ],
      "execution_count": null,
      "outputs": []
    },
    {
      "cell_type": "code",
      "metadata": {
        "id": "YNgkIINk9Wsw",
        "colab_type": "code",
        "colab": {}
      },
      "source": [
        "def ex3():\n",
        "    score1, score2, score3 = eval(input(\"Enter three scores separated by a comma: \"))\n",
        "    avg = (score1 + score2 + score3) / 3.0\n",
        "\n",
        "    print(\"The average of the scores is:\", avg)\n",
        "\n",
        "ex3()"
      ],
      "execution_count": null,
      "outputs": []
    },
    {
      "cell_type": "code",
      "metadata": {
        "id": "1An3rxnP95wK",
        "colab_type": "code",
        "colab": {}
      },
      "source": [
        "def ex4():\n",
        "    for i in range(10):\n",
        "        cels = eval(input(\"What is the Celsius temperature? \"))\n",
        "        fahren = 9.0 / 5.0 * cels + 32\n",
        "        print(\"The temperature is\", fahren, \"degrees Fahrenheit.\")\n",
        "        print()\n",
        "\n",
        "ex4()"
      ],
      "execution_count": null,
      "outputs": []
    },
    {
      "cell_type": "code",
      "metadata": {
        "id": "8t6izBFh-ISF",
        "colab_type": "code",
        "colab": {}
      },
      "source": [
        "def ex5():\n",
        "    print(\"Celsius  Fahrenheit\")\n",
        "    print(\"....................\")\n",
        "    print(\" 0          32.0\")\n",
        "    for cels in [10,20,30,40,50,60,70,80,90]:\n",
        "        fahren = 9.0 / 5.0 * cels + 32\n",
        "        print(cels, \"        \", fahren)\n",
        "    print(\"100         212.0\")\n",
        "\n",
        "ex5()"
      ],
      "execution_count": null,
      "outputs": []
    },
    {
      "cell_type": "code",
      "metadata": {
        "id": "9dF9SKe1-ZO-",
        "colab_type": "code",
        "colab": {}
      },
      "source": [
        "def ex6():\n",
        "    principal = eval(input(\"Enter the initial principal: \"))\n",
        "    apr = eval(input(\"Enter the annualized interest rate: \"))\n",
        "    years = eval(input(\"Enter the number of years: \"))\n",
        "\n",
        "    for i in range(years):\n",
        "        principal = principal * (1 + apr)\n",
        "\n",
        "    print(\"The amount in\", years, \"years is:\", principal)\n",
        "\n",
        "ex6()"
      ],
      "execution_count": null,
      "outputs": []
    },
    {
      "cell_type": "code",
      "metadata": {
        "id": "1T145k6r-nGq",
        "colab_type": "code",
        "colab": {}
      },
      "source": [
        "def ex7():\n",
        "    payment = eval(input(\"Enter amount to invest each year: \"))\n",
        "    apr = eval(input(\"Enter the annualized interest rate: \"))\n",
        "    years = eval(input(\"Enter the number of years: \"))\n",
        "\n",
        "    principal = 0.0\n",
        "    for i in range(years):\n",
        "        principal = (principal + payment) * (1 + apr)\n",
        "\n",
        "    print(\"The amount in\", years, \"years is:\", principal)\n",
        "\n",
        "ex7()"
      ],
      "execution_count": null,
      "outputs": []
    },
    {
      "cell_type": "code",
      "metadata": {
        "id": "g6ACKyLS-9d8",
        "colab_type": "code",
        "colab": {}
      },
      "source": [
        "def ex8():\n",
        "    principal = eval(input(\"Enter the initial principal: \"))\n",
        "    rate = eval(input(\"Enter the interest rate: \"))\n",
        "    periods = eval(input(\"Enter the number of compounding periods per year: \"))\n",
        "    years = eval(input(\"Enter the number of years: \"))\n",
        "\n",
        "    for i in range(years * periods):\n",
        "        principal = principal * (1 + rate/periods)\n",
        "\n",
        "    print(\"The amount in\", years, \"years is:\", principal)\n",
        "\n",
        "ex8()"
      ],
      "execution_count": null,
      "outputs": []
    },
    {
      "cell_type": "code",
      "metadata": {
        "id": "TRU-zu7q_HAd",
        "colab_type": "code",
        "colab": {}
      },
      "source": [
        "def ex9():\n",
        "    fahrenheit = eval(input(\"What is the Fahrenheit temperature? \"))\n",
        "    celsius = 5.0 / 9.0 * (fahrenheit - 32)\n",
        "    print(\"The temperature is\", celsius, \"degrees Celsius\")\n",
        "\n",
        "ex9()"
      ],
      "execution_count": null,
      "outputs": []
    },
    {
      "cell_type": "code",
      "metadata": {
        "id": "ATPXkQMq_Qd5",
        "colab_type": "code",
        "colab": {}
      },
      "source": [
        "def ex10():\n",
        "    kms = eval(input(\"Enter the distance in kilometers: \"))\n",
        "    miles = kms * 0.62\n",
        "    print(\"The distance is\", miles, \"miles.\")\n",
        "\n",
        "ex10()"
      ],
      "execution_count": null,
      "outputs": []
    },
    {
      "cell_type": "code",
      "metadata": {
        "id": "VT3cyc8g_aRI",
        "colab_type": "code",
        "colab": {}
      },
      "source": [
        "def ex11():\n",
        "    fahrenheit = eval(input(\"What is the Fahrenheit temperature? \"))\n",
        "    celsius = 5.0 / 9.0 * (fahrenheit - 32)\n",
        "    print(\"The temperature is\", celsius, \"degrees Celsius\")\n",
        "\n",
        "ex11()"
      ],
      "execution_count": null,
      "outputs": []
    },
    {
      "cell_type": "code",
      "metadata": {
        "id": "t316jUgX_fPl",
        "colab_type": "code",
        "colab": {}
      },
      "source": [
        "def ex12():\n",
        "    print(\"Welcome to the Interactive Python Calculator\")\n",
        "    for i in range(100):\n",
        "        result = eval(input(\"> \"))\n",
        "        print(result)\n",
        "\n",
        "ex12()"
      ],
      "execution_count": null,
      "outputs": []
    }
  ]
}