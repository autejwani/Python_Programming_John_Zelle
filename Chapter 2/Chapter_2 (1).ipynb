{
  "nbformat": 4,
  "nbformat_minor": 0,
  "metadata": {
    "colab": {
      "name": "Chapter 2.ipynb",
      "provenance": [],
      "collapsed_sections": []
    },
    "kernelspec": {
      "name": "python3",
      "display_name": "Python 3"
    }
  },
  "cells": [
    {
      "cell_type": "markdown",
      "metadata": {
        "id": "yBtTDHWqBOiJ",
        "colab_type": "text"
      },
      "source": [
        "##Chapter 2 Exercise 1\n",
        "Solution to Programming Exercise 1 of Chapter 2 of Python Programming: An Introduction to Computer Science, John Zelle, 3rd Edition, Franklin, Beedle, and Associates"
      ]
    },
    {
      "cell_type": "code",
      "metadata": {
        "id": "e3zhZJo387hH",
        "colab_type": "code",
        "colab": {}
      },
      "source": [
        "def ex1():\n",
        "    cels = eval(input(\"What is the Celsius temperature? \"))\n",
        "    fahren = 9.0 / 5.0 * cels + 32\n",
        "    print(\"The temperature is\", fahren, \"degrees Fahrenheit.\")\n",
        "\n",
        "ex1()\n"
      ],
      "execution_count": null,
      "outputs": []
    },
    {
      "cell_type": "markdown",
      "metadata": {
        "id": "HOvrsDKBBP4R",
        "colab_type": "text"
      },
      "source": [
        "##Chapter 2 Exercise 2\n",
        "Solution to Programming Exercise 2 of Chapter 2 of Python Programming: An Introduction to Computer Science, John Zelle, 3rd Edition, Franklin, Beedle, and Associates"
      ]
    },
    {
      "cell_type": "code",
      "metadata": {
        "id": "G9GhWuXd9HAK",
        "colab_type": "code",
        "colab": {}
      },
      "source": [
        "def ex2():\n",
        "    cels = eval(input(\"What is the Celsius temperature? \"))\n",
        "    fahren = 9/5 * cels + 32\n",
        "    print(\"The temperature is\", fahren, \"degrees Fahrenheit.\")\n",
        "    input(\"Press the <Enter> key to quit the program.\")\n",
        "\n",
        "ex2()"
      ],
      "execution_count": null,
      "outputs": []
    },
    {
      "cell_type": "markdown",
      "metadata": {
        "id": "TltF-NrZBQrr",
        "colab_type": "text"
      },
      "source": [
        "##Chapter 2 Exercise 3\n",
        "Solution to Programming Exercise 3 of Chapter 2 of Python Programming: An Introduction to Computer Science, John Zelle, 3rd Edition, Franklin, Beedle, and Associates"
      ]
    },
    {
      "cell_type": "code",
      "metadata": {
        "id": "YNgkIINk9Wsw",
        "colab_type": "code",
        "colab": {}
      },
      "source": [
        "def ex3():\n",
        "    score1, score2, score3 = eval(input(\"Enter three scores separated by a comma: \"))\n",
        "    avg = (score1 + score2 + score3) / 3.0\n",
        "\n",
        "    print(\"The average of the scores is:\", avg)\n",
        "\n",
        "ex3()"
      ],
      "execution_count": null,
      "outputs": []
    },
    {
      "cell_type": "markdown",
      "metadata": {
        "id": "Q4Vj_uivBSw8",
        "colab_type": "text"
      },
      "source": [
        "##Chapter 2 Exercise 4\n",
        "Solution to Programming Exercise 4 of Chapter 2 of Python Programming: An Introduction to Computer Science, John Zelle, 3rd Edition, Franklin, Beedle, and Associates"
      ]
    },
    {
      "cell_type": "code",
      "metadata": {
        "id": "1An3rxnP95wK",
        "colab_type": "code",
        "colab": {}
      },
      "source": [
        "def ex4():\n",
        "    for i in range(10):\n",
        "        cels = eval(input(\"What is the Celsius temperature? \"))\n",
        "        fahren = 9.0 / 5.0 * cels + 32\n",
        "        print(\"The temperature is\", fahren, \"degrees Fahrenheit.\")\n",
        "        print()\n",
        "\n",
        "ex4()"
      ],
      "execution_count": null,
      "outputs": []
    },
    {
      "cell_type": "markdown",
      "metadata": {
        "id": "m4Awq-udBUKE",
        "colab_type": "text"
      },
      "source": [
        "##Chapter 2 Exercise 5\n",
        "Solution to Programming Exercise 5 of Chapter 2 of Python Programming: An Introduction to Computer Science, John Zelle, 3rd Edition, Franklin, Beedle, and Associates"
      ]
    },
    {
      "cell_type": "code",
      "metadata": {
        "id": "8t6izBFh-ISF",
        "colab_type": "code",
        "colab": {}
      },
      "source": [
        "def ex5():\n",
        "    print(\"Celsius  Fahrenheit\")\n",
        "    print(\"....................\")\n",
        "    print(\" 0          32.0\")\n",
        "    for cels in [10,20,30,40,50,60,70,80,90]:\n",
        "        fahren = 9.0 / 5.0 * cels + 32\n",
        "        print(cels, \"        \", fahren)\n",
        "    print(\"100         212.0\")\n",
        "\n",
        "ex5()"
      ],
      "execution_count": null,
      "outputs": []
    },
    {
      "cell_type": "markdown",
      "metadata": {
        "id": "H_B-InDuBU9F",
        "colab_type": "text"
      },
      "source": [
        "##Chapter 2 Exercise 6\n",
        "Solution to Programming Exercise 6 of Chapter 2 of Python Programming: An Introduction to Computer Science, John Zelle, 3rd Edition, Franklin, Beedle, and Associates"
      ]
    },
    {
      "cell_type": "code",
      "metadata": {
        "id": "9dF9SKe1-ZO-",
        "colab_type": "code",
        "colab": {}
      },
      "source": [
        "def ex6():\n",
        "    principal = eval(input(\"Enter the initial principal: \"))\n",
        "    apr = eval(input(\"Enter the annualized interest rate: \"))\n",
        "    years = eval(input(\"Enter the number of years: \"))\n",
        "\n",
        "    for i in range(years):\n",
        "        principal = principal * (1 + apr)\n",
        "\n",
        "    print(\"The amount in\", years, \"years is:\", principal)\n",
        "\n",
        "ex6()"
      ],
      "execution_count": null,
      "outputs": []
    },
    {
      "cell_type": "markdown",
      "metadata": {
        "id": "7B8NA-KhBWWq",
        "colab_type": "text"
      },
      "source": [
        "##Chapter 2 Exercise 7\n",
        "Solution to Programming Exercise 7 of Chapter 2 of Python Programming: An Introduction to Computer Science, John Zelle, 3rd Edition, Franklin, Beedle, and Associates"
      ]
    },
    {
      "cell_type": "code",
      "metadata": {
        "id": "1T145k6r-nGq",
        "colab_type": "code",
        "colab": {}
      },
      "source": [
        "def ex7():\n",
        "    payment = eval(input(\"Enter amount to invest each year: \"))\n",
        "    apr = eval(input(\"Enter the annualized interest rate: \"))\n",
        "    years = eval(input(\"Enter the number of years: \"))\n",
        "\n",
        "    principal = 0.0\n",
        "    for i in range(years):\n",
        "        principal = (principal + payment) * (1 + apr)\n",
        "\n",
        "    print(\"The amount in\", years, \"years is:\", principal)\n",
        "\n",
        "ex7()"
      ],
      "execution_count": null,
      "outputs": []
    },
    {
      "cell_type": "markdown",
      "metadata": {
        "id": "kP26gH1qBXqV",
        "colab_type": "text"
      },
      "source": [
        "##Chapter 2 Exercise 8\n",
        "Solution to Programming Exercise 8 of Chapter 2 of Python Programming: An Introduction to Computer Science, John Zelle, 3rd Edition, Franklin, Beedle, and Associates"
      ]
    },
    {
      "cell_type": "code",
      "metadata": {
        "id": "g6ACKyLS-9d8",
        "colab_type": "code",
        "colab": {}
      },
      "source": [
        "def ex8():\n",
        "    principal = eval(input(\"Enter the initial principal: \"))\n",
        "    rate = eval(input(\"Enter the interest rate: \"))\n",
        "    periods = eval(input(\"Enter the number of compounding periods per year: \"))\n",
        "    years = eval(input(\"Enter the number of years: \"))\n",
        "\n",
        "    for i in range(years * periods):\n",
        "        principal = principal * (1 + rate/periods)\n",
        "\n",
        "    print(\"The amount in\", years, \"years is:\", principal)\n",
        "\n",
        "ex8()"
      ],
      "execution_count": null,
      "outputs": []
    },
    {
      "cell_type": "markdown",
      "metadata": {
        "id": "LG9fNlvdBY5M",
        "colab_type": "text"
      },
      "source": [
        "##Chapter 2 Exercise 9\n",
        "Solution to Programming Exercise 9 of Chapter 2 of Python Programming: An Introduction to Computer Science, John Zelle, 3rd Edition, Franklin, Beedle, and Associates"
      ]
    },
    {
      "cell_type": "code",
      "metadata": {
        "id": "TRU-zu7q_HAd",
        "colab_type": "code",
        "colab": {}
      },
      "source": [
        "def ex9():\n",
        "    fahrenheit = eval(input(\"What is the Fahrenheit temperature? \"))\n",
        "    celsius = 5.0 / 9.0 * (fahrenheit - 32)\n",
        "    print(\"The temperature is\", celsius, \"degrees Celsius\")\n",
        "\n",
        "ex9()"
      ],
      "execution_count": null,
      "outputs": []
    },
    {
      "cell_type": "markdown",
      "metadata": {
        "id": "KNXv7DdTBZ_i",
        "colab_type": "text"
      },
      "source": [
        "##Chapter 2 Exercise 10\n",
        "Solution to Programming Exercise 10 of Chapter 2 of Python Programming: An Introduction to Computer Science, John Zelle, 3rd Edition, Franklin, Beedle, and Associates"
      ]
    },
    {
      "cell_type": "code",
      "metadata": {
        "id": "ATPXkQMq_Qd5",
        "colab_type": "code",
        "colab": {}
      },
      "source": [
        "def ex10():\n",
        "    kms = eval(input(\"Enter the distance in kilometers: \"))\n",
        "    miles = kms * 0.62\n",
        "    print(\"The distance is\", miles, \"miles.\")\n",
        "\n",
        "ex10()"
      ],
      "execution_count": null,
      "outputs": []
    },
    {
      "cell_type": "markdown",
      "metadata": {
        "id": "FSikzMzCBbQr",
        "colab_type": "text"
      },
      "source": [
        "##Chapter 2 Exercise 11\n",
        "Solution to Programming Exercise 11 of Chapter 2 of Python Programming: An Introduction to Computer Science, John Zelle, 3rd Edition, Franklin, Beedle, and Associates"
      ]
    },
    {
      "cell_type": "code",
      "metadata": {
        "id": "VT3cyc8g_aRI",
        "colab_type": "code",
        "colab": {}
      },
      "source": [
        "def ex11():\n",
        "    fahrenheit = eval(input(\"What is the Fahrenheit temperature? \"))\n",
        "    celsius = 5.0 / 9.0 * (fahrenheit - 32)\n",
        "    print(\"The temperature is\", celsius, \"degrees Celsius\")\n",
        "\n",
        "ex11()"
      ],
      "execution_count": null,
      "outputs": []
    },
    {
      "cell_type": "markdown",
      "metadata": {
        "id": "LdvDCj_7BcCW",
        "colab_type": "text"
      },
      "source": [
        "##Chapter 2 Exercise 12\n",
        "Solution to Programming Exercise 12 of Chapter 2 of Python Programming: An Introduction to Computer Science, John Zelle, 3rd Edition, Franklin, Beedle, and Associates"
      ]
    },
    {
      "cell_type": "code",
      "metadata": {
        "id": "t316jUgX_fPl",
        "colab_type": "code",
        "colab": {}
      },
      "source": [
        "def ex12():\n",
        "    print(\"Welcome to the Interactive Python Calculator\")\n",
        "    for i in range(100):\n",
        "        result = eval(input(\"> \"))\n",
        "        print(result)\n",
        "\n",
        "ex12()"
      ],
      "execution_count": null,
      "outputs": []
    }
  ]
}