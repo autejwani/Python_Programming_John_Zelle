{
  "nbformat": 4,
  "nbformat_minor": 0,
  "metadata": {
    "colab": {
      "name": "Ch3Ex16.ipynb",
      "provenance": [],
      "authorship_tag": "ABX9TyMweLID2mnBqHClvU/msuFg",
      "include_colab_link": true
    },
    "kernelspec": {
      "name": "python3",
      "display_name": "Python 3"
    }
  },
  "cells": [
    {
      "cell_type": "markdown",
      "metadata": {
        "id": "view-in-github",
        "colab_type": "text"
      },
      "source": [
        "<a href=\"https://colab.research.google.com/github/autejwani/Python_Programming_John_Zelle/blob/master/Ch3Ex16.ipynb\" target=\"_parent\"><img src=\"https://colab.research.google.com/assets/colab-badge.svg\" alt=\"Open In Colab\"/></a>"
      ]
    },
    {
      "cell_type": "code",
      "metadata": {
        "id": "xXKull1GQhbE",
        "colab_type": "code",
        "outputId": "2f29f8e2-5028-4818-b4a0-17bfe13cbbf5",
        "colab": {
          "base_uri": "https://localhost:8080/",
          "height": 34
        }
      },
      "source": [
        "# File: Fibonacci.py\n",
        "# A simple program that calculates the next number in the sequence \n",
        "# Solution to Programming Exercise 16 of Chapter 3 of Python Programming:\n",
        "# An Introduction to Computer Science, 3rd Edition, Franklin, Beedle, and \n",
        "# Associates\n",
        "\n",
        "def calc_fib(n):\n",
        "  x = 1;\n",
        "  y = 1;\n",
        "  for i in range(1,n+1):\n",
        "    if i==1:\n",
        "      F=1;\n",
        "    elif i==2:\n",
        "      F=1;\n",
        "      x = y;\n",
        "      y = F;\n",
        "    else:\n",
        "      F = x + y;\n",
        "      x = y;\n",
        "      y = F;\n",
        "  return F\n",
        "\n",
        "\n",
        "calc_fib(7)  "
      ],
      "execution_count": 21,
      "outputs": [
        {
          "output_type": "execute_result",
          "data": {
            "text/plain": [
              "13"
            ]
          },
          "metadata": {
            "tags": []
          },
          "execution_count": 21
        }
      ]
    }
  ]
}