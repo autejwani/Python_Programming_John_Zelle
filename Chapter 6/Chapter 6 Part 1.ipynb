{
  "nbformat": 4,
  "nbformat_minor": 0,
  "metadata": {
    "colab": {
      "name": "Chapter6",
      "provenance": [],
      "collapsed_sections": []
    },
    "kernelspec": {
      "name": "python3",
      "display_name": "Python 3"
    }
  },
  "cells": [
    {
      "cell_type": "markdown",
      "metadata": {
        "id": "n_LExTi71F6L",
        "colab_type": "text"
      },
      "source": [
        "# Chapter 6 Exercise 1##\n",
        "Solution to Programming Exercise 1 of Chapter 6 of Python Programming: An Introduction to Computer Science, John Zelle, 3rd Edition, Franklin, Beedle, and Associates"
      ]
    },
    {
      "cell_type": "code",
      "metadata": {
        "id": "ZcKLYnet0fKA",
        "colab_type": "code",
        "colab": {}
      },
      "source": [
        "def eieio():\n",
        "    return \"Ee-igh, Ee-igh, Oh!\"\n",
        "\n",
        "def refrain():\n",
        "    print(\"Old MacDonald had a farm,\", eieio())\n",
        "\n",
        "def hada(animal):\n",
        "    print(\"And on that farm he had a \" + animal + \",\" , eieio())\n",
        "\n",
        "def witha(noise):\n",
        "    noisecomma = noise + \",\"\n",
        "    noise2 = noisecomma + \" \"+noise\n",
        "    print(\"With a\", noise2, \"here and a\", noise2, \"there.\")\n",
        "    print(\"Here a\", noisecomma, \"there a\", noisecomma, \\\n",
        "        \"everywhere a\", noise2+\".\")\n",
        "\n",
        "def verse(animal, noise):\n",
        "    refrain()\n",
        "    hada(animal)\n",
        "    witha(noise)\n",
        "    refrain()\n",
        "\n",
        "def ex1():\n",
        "    animnoise = [(\"cow\", \"moo\"), (\"pig\",\"oink\"), (\"hedgehog\", \"dinsdale\"), (\"dog\", \"woof\"), (\"cat\", \"mew\")]\n",
        "    for i in range(5):\n",
        "        verse(animnoise[i][0],animnoise[i][1])\n",
        "        print()\n",
        "\n",
        "ex1()\n"
      ],
      "execution_count": null,
      "outputs": []
    },
    {
      "cell_type": "markdown",
      "metadata": {
        "id": "nV3DQnTd1IcU",
        "colab_type": "text"
      },
      "source": [
        "# Chapter 6 Exercise 2##\n",
        "Solution to Programming Exercise 2 of Chapter 6 of Python Programming: An Introduction to Computer Science, John Zelle, 3rd Edition, Franklin, Beedle, and Associates"
      ]
    },
    {
      "cell_type": "code",
      "metadata": {
        "id": "LeI67n1GKK3s",
        "colab_type": "code",
        "colab": {}
      },
      "source": [
        "def verse(number, action):\n",
        "    print(marching(number), hurrah())\n",
        "    print(marching(number), hurrah())\n",
        "    print(marching(number))\n",
        "    print(littleOne(action))\n",
        "    refrain()\n",
        "\n",
        "def marching(number):\n",
        "    return \"The ants go marching %s by %s,\" % (number,number)\n",
        "\n",
        "def hurrah():\n",
        "    return \"hurrah! hurrah!\"\n",
        "\n",
        "def littleOne(action):\n",
        "    return \"The little one stops to \"+action+\",\"\n",
        "\n",
        "def refrain():\n",
        "    print(\"And they all go marching down...\")\n",
        "    print(\"In the ground...\")\n",
        "    print(\"To get out...\")\n",
        "    print(\"Of the rain.\")\n",
        "    print(\"Boom! \" * 3)\n",
        "\n",
        "def ex2():\n",
        "    actions = [(\"one\", \"suck his thumb\"),\n",
        "                (\"two\", \"tie his shoe\"),\n",
        "                (\"three\", \"climb a tree\"),\n",
        "                (\"four\", \"shut the door\"),\n",
        "                (\"five\", \"take a dive\"),\n",
        "                (\"six\", \"pick up sticks\"),\n",
        "                (\"seven\", \"talk to Kevin\"),\n",
        "                (\"eight\", \"jump the gate\"),\n",
        "                (\"nine\", \"swing on a vine\"),\n",
        "                (\"ten\", \"say 'The End'\")]\n",
        "\n",
        "    for i in range(10):\n",
        "        verse(actions[i][0], actions[i][1])\n",
        "        print()\n",
        "\n",
        "    input(\"Press <Enter> to Quit\")\n",
        "\n",
        "ex2()\n"
      ],
      "execution_count": null,
      "outputs": []
    },
    {
      "cell_type": "markdown",
      "metadata": {
        "id": "IgUeJG0h1Kuu",
        "colab_type": "text"
      },
      "source": [
        "# Chapter 6 Exercise 3##\n",
        "Solution to Programming Exercise 3 of Chapter 6 of Python Programming: An Introduction to Computer Science, John Zelle, 3rd Edition, Franklin, Beedle, and Associates"
      ]
    },
    {
      "cell_type": "code",
      "metadata": {
        "id": "J3hsnLQvLQKb",
        "colab_type": "code",
        "colab": {}
      },
      "source": [
        "import math\n",
        "\n",
        "radius = int(input(\"Enter a radius: \"))\n",
        "\n",
        "def sphereArea(radius):\n",
        "  A = 4 * math.pi * radius**2\n",
        "  return A\n",
        "\n",
        "def sphereVolume(radius):\n",
        "  V = 4/3 * math.pi * radius**3\n",
        "  return V\n",
        "\n",
        "def ex3(): \n",
        "  print('Surface Area of sphere = ' + str(\"{:.2f}\".format(sphereArea(radius))))\n",
        "  print('Volume of sphere = ' + str(\"{:.2f}\".format(sphereVolume(radius))))\n",
        "#\"{:.2f}\".format(length)\n",
        "ex3()"
      ],
      "execution_count": null,
      "outputs": []
    },
    {
      "cell_type": "markdown",
      "metadata": {
        "id": "ty7eqgL72BjX",
        "colab_type": "text"
      },
      "source": [
        "# Chapter 6 Exercise 4##\n",
        "Solution to Programming Exercise 4 of Chapter 6 of Python Programming: An Introduction to Computer Science, John Zelle, 3rd Edition, Franklin, Beedle, and Associates"
      ]
    },
    {
      "cell_type": "code",
      "metadata": {
        "id": "0SnS0DY21hR_",
        "colab_type": "code",
        "colab": {}
      },
      "source": [
        "import math\n",
        "\n",
        "n = int(input(\"Enter the value for n: \"))\n",
        "\n",
        "def sumN(n):\n",
        "  sum = (n * (n + 1))/2\n",
        "  return sum\n",
        "\n",
        "def sumNCubes(n):\n",
        "  sum = ((n**2)*((n+1)**2))/4\n",
        "  return sum\n",
        "\n",
        "def alternate_sumN(n):\n",
        "  sum = 0\n",
        "  for i in range(n+1):\n",
        "    sum = sum + i\n",
        "  return sum\n",
        "\n",
        "def alternate_sumNCubes(n):\n",
        "  sum = 0\n",
        "  for i in range(n+1):\n",
        "    sum = sum + i**3\n",
        "  return sum\n",
        "\n",
        "def ex4(): \n",
        "  print('Sum of the first n natural numbers = ' + str(\"{:.2f}\".format(sumN(n))))\n",
        "  print('Sum of the cubes of the first n natural numbers = ' + str(\"{:.2f}\".format(sumNCubes(n))))\n",
        "  print('Sum of the first n natural numbers = ' + str(\"{:.2f}\".format(alternate_sumN(n))))\n",
        "  print('Sum of the cubes of the first n natural numbers = ' + str(\"{:.2f}\".format(alternate_sumNCubes(n))))\n",
        "ex4()"
      ],
      "execution_count": null,
      "outputs": []
    },
    {
      "cell_type": "markdown",
      "metadata": {
        "id": "lDj2RPoN1MOg",
        "colab_type": "text"
      },
      "source": [
        "# Chapter 6 Exercise 5##\n",
        "Solution to Programming Exercise 5 of Chapter 6 of Python Programming: An Introduction to Computer Science, John Zelle, 3rd Edition, Franklin, Beedle, and Associates"
      ]
    },
    {
      "cell_type": "code",
      "metadata": {
        "id": "hTFqt8qG9M3p",
        "colab_type": "code",
        "colab": {}
      },
      "source": [
        "import math\n",
        "\n",
        "\n",
        "def priceofpizza(r, price):\n",
        "    return float(price) / area(r)\n",
        "\n",
        "def area(r):\n",
        "    return math.pi * (r)**2\n",
        "\n",
        "def ex5():\n",
        "\n",
        "    r = float(input(\"Enter the radius of the pizza: \"))\n",
        "    price = float(input(\"Enter the price of the pizza: \"))\n",
        "\n",
        "    print('The pizza costs', str(\"{:.2f}\".format(priceofpizza(r,price))), 'dollars per square inch')\n",
        "\n",
        "ex5()"
      ],
      "execution_count": null,
      "outputs": []
    },
    {
      "cell_type": "markdown",
      "metadata": {
        "id": "VW7vpYfx1NqO",
        "colab_type": "text"
      },
      "source": [
        "# Chapter 6 Exercise 7##\n",
        "Solution to Programming Exercise 7 of Chapter 6 of Python Programming: An Introduction to Computer Science, John Zelle, 3rd Edition, Franklin, Beedle, and Associates"
      ]
    },
    {
      "cell_type": "code",
      "metadata": {
        "id": "dL3HyTpfLWFC",
        "colab_type": "code",
        "colab": {}
      },
      "source": [
        "# File: Fibonacci.py\n",
        "# A simple program that calculates the next number in the sequence \n",
        "# Solution to Programming Exercise 16 of Chapter 3 of Python Programming:\n",
        "# An Introduction to Computer Science, 3rd Edition, Franklin, Beedle, and \n",
        "# Associates\n",
        "\n",
        "def ex7(n):\n",
        "  x = 1;\n",
        "  y = 1;\n",
        "  for i in range(1,n+1):\n",
        "    if i==1:\n",
        "      F=1;\n",
        "    elif i==2:\n",
        "      F=1;\n",
        "      x = y;\n",
        "      y = F;\n",
        "    else:\n",
        "      F = x + y;\n",
        "      x = y;\n",
        "      y = F;\n",
        "  return F\n",
        "\n",
        "\n",
        "ex7(7)"
      ],
      "execution_count": null,
      "outputs": []
    },
    {
      "cell_type": "markdown",
      "metadata": {
        "id": "vNcnL8Hm1PN0",
        "colab_type": "text"
      },
      "source": [
        "# Chapter 6 Exercise 8##\n",
        "Solution to Programming Exercise 8 of Chapter 6 of Python Programming: An Introduction to Computer Science, John Zelle, 3rd Edition, Franklin, Beedle, and Associates"
      ]
    },
    {
      "cell_type": "code",
      "metadata": {
        "id": "ABIaOPImd1KI",
        "colab_type": "code",
        "colab": {}
      },
      "source": [
        "def nextGuess(guess, x):\n",
        "   return (guess + x/guess)/2\n",
        "\n",
        "def ex8():\n",
        "  x = int(input(\"Please enter a whole number \"))\n",
        "  y = int(input(\"How many times do you want to iterate \"))\n",
        "  prevguess = x/2\n",
        "  for ans in range(1, y+1):\n",
        "    nextguess=nextGuess(prevguess, x)  \n",
        "    prevguess = nextguess  \n",
        "  print(nextguess)\n",
        "\n",
        "ex8()"
      ],
      "execution_count": null,
      "outputs": []
    },
    {
      "cell_type": "markdown",
      "metadata": {
        "id": "eAtV3tcD1QxI",
        "colab_type": "text"
      },
      "source": [
        "# Chapter 6 Exercise 9##\n",
        "Solution to Programming Exercise 9 of Chapter 6 of Python Programming: An Introduction to Computer Science, John Zelle, 3rd Edition, Franklin, Beedle, and Associates"
      ]
    },
    {
      "cell_type": "code",
      "metadata": {
        "id": "I9OXV-u_hd-2",
        "colab_type": "code",
        "colab": {}
      },
      "source": [
        "def grade(score):\n",
        "  if (score > 89):\n",
        "    grade = 'A'\n",
        "  elif (score > 79):\n",
        "    grade = 'B'\n",
        "  elif (score > 69):\n",
        "    grade = 'C'\n",
        "  elif (score > 59):\n",
        "    grade = 'D'\n",
        "  else:\n",
        "    grade = 'F'\n",
        "    \n",
        "  return grade\n",
        "\n",
        "\n",
        "def ex9():\n",
        "    score = int(input(\"Enter your score: \"))\n",
        "    print(\"Your grade is\", grade(score))\n",
        "\n",
        "ex9()"
      ],
      "execution_count": null,
      "outputs": []
    },
    {
      "cell_type": "markdown",
      "metadata": {
        "id": "XYk3_FSd1Rpj",
        "colab_type": "text"
      },
      "source": [
        "# Chapter 6 Exercise 10##\n",
        "Solution to Programming Exercise 10 of Chapter 6 of Python Programming: An Introduction to Computer Science, John Zelle, 3rd Edition, Franklin, Beedle, and Associates"
      ]
    },
    {
      "cell_type": "code",
      "metadata": {
        "id": "AyHXwQPEkFHV",
        "colab_type": "code",
        "colab": {}
      },
      "source": [
        "def acronym(phrase):\n",
        "  acronym = \"\"\n",
        "  for word in phrase.split():\n",
        "        acronym = acronym + word[0]\n",
        "  acronym = acronym.upper()\n",
        "  return acronym\n",
        "\n",
        "\n",
        "def ex10():\n",
        "    phrase = input(\"Enter your sentence: \")\n",
        "    print(\"The acronym is\", acronym(phrase))\n",
        "ex10()"
      ],
      "execution_count": null,
      "outputs": []
    },
    {
      "cell_type": "markdown",
      "metadata": {
        "id": "IP5wd3xo1TOv",
        "colab_type": "text"
      },
      "source": [
        "# Chapter 6 Exercise 11##\n",
        "Solution to Programming Exercise 11 of Chapter 6 of Python Programming: An Introduction to Computer Science, John Zelle, 3rd Edition, Franklin, Beedle, and Associates"
      ]
    },
    {
      "cell_type": "code",
      "metadata": {
        "id": "eh76sCS-9qKy",
        "colab_type": "code",
        "colab": {}
      },
      "source": [
        "def squareEach(nums):\n",
        "  square = []\n",
        "  for x in nums:\n",
        "    square.append(x**2)\n",
        "  return square\n",
        "\n",
        "def ex11():\n",
        "  l = [1, 2, 3, 4, 5, 6, 7, 8, 9, 10]\n",
        "  print(\"Squared List is: \", squareEach(l))\n",
        "\n",
        "ex11()"
      ],
      "execution_count": null,
      "outputs": []
    },
    {
      "cell_type": "markdown",
      "metadata": {
        "id": "KR4xoh8Q1VI-",
        "colab_type": "text"
      },
      "source": [
        "# Chapter 6 Exercise 12##\n",
        "Solution to Programming Exercise 12 of Chapter 6 of Python Programming: An Introduction to Computer Science, John Zelle, 3rd Edition, Franklin, Beedle, and Associates"
      ]
    },
    {
      "cell_type": "code",
      "metadata": {
        "id": "F5b4eFINDYKm",
        "colab_type": "code",
        "colab": {}
      },
      "source": [
        "def sumList(nums):\n",
        "  sum = 0\n",
        "  for i in nums:\n",
        "    sum = sum + i\n",
        "  return sum\n",
        "\n",
        "def ex12():\n",
        "  nums = [1, 2, 3, 4, 5, 6, 7, 8, 9, 10]\n",
        "  print(\"The sum of the numbers in the list is\", sumList(nums))\n",
        "\n",
        "ex12()"
      ],
      "execution_count": null,
      "outputs": []
    },
    {
      "cell_type": "markdown",
      "metadata": {
        "id": "-PQdI3K71XE7",
        "colab_type": "text"
      },
      "source": [
        "# Chapter 6 Exercise 13##\n",
        "Solution to Programming Exercise 13 of Chapter 6 of Python Programming: An Introduction to Computer Science, John Zelle, 3rd Edition, Franklin, Beedle, and Associates"
      ]
    },
    {
      "cell_type": "code",
      "metadata": {
        "id": "b_tA0swrLkOj",
        "colab_type": "code",
        "colab": {}
      },
      "source": [
        "def toNumbers(strList):\n",
        "    for i in range(len(strList)):\n",
        "        strList[i] = float(strList[i])\n",
        "    return strList\n",
        "\n",
        "def ex13():\n",
        "  L = [\"1\", \"2.21\", \"3\", \"4.3\", \"5\", \"6\", \"7.89\", \"8\", \"9\", \"10\"]\n",
        "  print(\"The list in numbers is:\", toNumbers(L))\n",
        "\n",
        "ex13()"
      ],
      "execution_count": null,
      "outputs": []
    },
    {
      "cell_type": "markdown",
      "metadata": {
        "id": "-Nx7O6mn1YbM",
        "colab_type": "text"
      },
      "source": [
        "# Chapter 6 Exercise 14##\n",
        "Solution to Programming Exercise 14 of Chapter 6 of Python Programming: An Introduction to Computer Science, John Zelle, 3rd Edition, Franklin, Beedle, and Associates"
      ]
    },
    {
      "cell_type": "code",
      "metadata": {
        "id": "e7nJouSxwAS6",
        "colab_type": "code",
        "colab": {}
      },
      "source": [
        "def toNumbers(strList):\n",
        "  for i in range(len(strList)):\n",
        "    strList[i] = float(strList[i])\n",
        "  return strList\n",
        "\n",
        "def sumList(nums):\n",
        "  sum = 0\n",
        "  for i in nums:\n",
        "    sum = sum + i\n",
        "  return sum\n",
        "\n",
        "def squareEach(nums):\n",
        "  square = []\n",
        "  for x in nums:\n",
        "    square.append(x**2)\n",
        "  return square\n",
        "\n",
        "def ex14():\n",
        "  \n",
        "\n",
        "ex14()"
      ],
      "execution_count": null,
      "outputs": []
    }
  ]
}
