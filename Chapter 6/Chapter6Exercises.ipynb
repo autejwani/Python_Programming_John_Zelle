{
 "cells": [
  {
   "cell_type": "markdown",
   "metadata": {},
   "source": [
    "# Chapter 6 Exercise 6##\n",
    "Solution to Programming Exercise 6 of Chapter 6 of Python Programming: An Introduction to Computer Science, John Zelle, 3rd Edition, Franklin, Beedle, and Associates"
   ]
  },
  {
   "cell_type": "code",
   "execution_count": null,
   "metadata": {},
   "outputs": [],
   "source": [
    "import math\n",
    "from graphics import *\n",
    "\n",
    "def square(x):\n",
    "    return x ** 2\n",
    "\n",
    "def distance(p1, p2):\n",
    "    dist = math.sqrt(square(p2.getX() - p1.getX()) + square(p2.getY() - p1.getY()))\n",
    "    return dist\n",
    "\n",
    "def aot(a,b,c):\n",
    "    s = (a + b + c)/2\n",
    "    A = math.sqrt(s * (s - a) * (s - b) * (s - c))\n",
    "    return A\n",
    "\n",
    "def pot(a,b,c):\n",
    "    P = a + b + c\n",
    "    return P\n",
    "\n",
    "def ex6():\n",
    "    win = GraphWin(\"Draw a Triangle\")\n",
    "    win.setCoords(0.0, 0.0, 10.0, 10.0)\n",
    "    \n",
    "    message = Text(Point(5, 0.5), \"Click on three points\").draw(win)\n",
    "    \n",
    "    # Get and draw three vertices of triangle\n",
    "    p1 = win.getMouse()\n",
    "    p1.draw(win)\n",
    "    p2 = win.getMouse()\n",
    "    p2.draw(win)\n",
    "    p3 = win.getMouse()\n",
    "    p3.draw(win)\n",
    "    \n",
    "    # Use Polygon object to draw the triangle\n",
    "    triangle = Polygon(p1,p2,p3)\n",
    "    triangle.setFill(\"pink\")\n",
    "    triangle.setOutline(\"black\")\n",
    "    triangle.draw(win)\n",
    "\n",
    "    d1 = distance(p1,p2)\n",
    "    d2 = distance(p2,p3)\n",
    "    d3 = distance(p3,p1)\n",
    "    \n",
    "    # Calculate the perimeter of the triangle\n",
    "    perim = pot(d1, d2, d3)\n",
    "    message = Text(Point(5, 1.5), \"The perimeter is: {0:0.2f}\".format(perim)).draw(win)\n",
    "    \n",
    "    # Calculate the area of the triangle\n",
    "    area = aot(d1, d2, d3)\n",
    "    message = Text(Point(5, 2.5), \"The area is: {0:0.2f}\".format(area)).draw(win)\n",
    "    \n",
    "    # Wait for another click to exist\n",
    "    win.getMouse()\n",
    "    win.close()\n",
    "\n",
    "ex6()"
   ]
  },
  {
   "cell_type": "markdown",
   "metadata": {},
   "source": [
    "# Chapter 6 Exercise 14##\n",
    "Solution to Programming Exercise 14 of Chapter 6 of Python Programming: An Introduction to Computer Science, John Zelle, 3rd Edition, Franklin, Beedle, and Associates"
   ]
  },
  {
   "cell_type": "code",
   "execution_count": null,
   "metadata": {},
   "outputs": [],
   "source": [
    "def toNumbers(strList):\n",
    "  for i in range(len(strList)):\n",
    "    strList[i] = float(strList[i])\n",
    "  return strList\n",
    "\n",
    "def sumList(nums):\n",
    "  sum = 0\n",
    "  for i in nums:\n",
    "    sum = sum + i\n",
    "  return sum\n",
    "\n",
    "def squareEach(nums):\n",
    "  square = []\n",
    "  for x in nums:\n",
    "    square.append(x**2)\n",
    "  return square\n",
    "\n",
    "def ex14():\n",
    "  fname = input(\"Enter filename: \")\n",
    "  infile = open(fname, \"r\")\n",
    "  slist = []\n",
    "  flist = []\n",
    "  sqlist = []\n",
    "  for line in infile:\n",
    "    slist.append(line)\n",
    "  flist = toNumbers(slist)\n",
    "  sqlist = squareEach(flist)\n",
    "  sulist = sumList(sqlist)\n",
    "  print(sulist)  \n",
    "  \n",
    "\n",
    "ex14()"
   ]
  },
  {
   "cell_type": "code",
   "execution_count": null,
   "metadata": {},
   "outputs": [],
   "source": [
    "import os\n",
    "os.getcwd()\n",
    "os.chdir('C:\\\\Users\\\\autej\\\\Documents\\\\Zelle_Python') #Enter your own file path\n",
    "os.getcwd()"
   ]
  },
  {
   "cell_type": "markdown",
   "metadata": {},
   "source": [
    "# Chapter 6 Exercise 15##\n",
    "Solution to Programming Exercise 15 of Chapter 6 of Python Programming: An Introduction to Computer Science, John Zelle, 3rd Edition, Franklin, Beedle, and Associates"
   ]
  },
  {
   "cell_type": "code",
   "execution_count": null,
   "metadata": {},
   "outputs": [],
   "source": [
    "from graphics import *\n",
    "\n",
    "def drawFace(center, size, win):   \n",
    "    Circle(center, size).draw(win)\n",
    "    Circle(Point(center.getX() - size/2,center.getY() - size/2), size/10).draw(win)\n",
    "    Circle(Point(center.getX() + size/2,center.getY() - size/2), size/10).draw(win)\n",
    "    Circle(Point(center.getX(),center.getY() + size/2), size/3).draw(win)\n",
    "    \n",
    "def ex15():\n",
    "    win = GraphWin(\"Draw a Face\", 500, 500)\n",
    "    drawFace(Point(250,250), 100, win)\n",
    "    drawFace(Point(100,100), 50, win)\n",
    "    drawFace(Point(93,200), 42, win)\n",
    "    drawFace(Point(100,300), 42, win)\n",
    "    drawFace(Point(150,400), 42, win)\n",
    "    \n",
    "    \n",
    "ex15()"
   ]
  },
  {
   "cell_type": "markdown",
   "metadata": {},
   "source": [
    "# Chapter 6 Exercise 16##\n",
    "Solution to Programming Exercise 16 of Chapter 6 of Python Programming: An Introduction to Computer Science, John Zelle, 3rd Edition, Franklin, Beedle, and Associates"
   ]
  },
  {
   "cell_type": "code",
   "execution_count": null,
   "metadata": {},
   "outputs": [],
   "source": [
    "from graphics import *\n",
    "import math\n",
    "import os\n",
    "\n",
    "def square(x):\n",
    "    return x ** 2\n",
    "\n",
    "def distance(p1, p2):\n",
    "    dist = math.sqrt(square(p2.getX() - p1.getX()) + square(p2.getY() - p1.getY()))\n",
    "    return dist\n",
    "\n",
    "def drawFace(center, size, win):   \n",
    "    circ1 = Circle(center, size).draw(win)\n",
    "    circ1.setFill('pink')\n",
    "    circ2 = Circle(Point(center.getX() - size/2,center.getY() - size/2), size/10).draw(win)\n",
    "    circ2.setFill('black')\n",
    "    circ3 = Circle(Point(center.getX() + size/2,center.getY() - size/2), size/10).draw(win)\n",
    "    circ3.setFill('black')\n",
    "    circ4 = Circle(Point(center.getX(),center.getY() + size/2), size/3).draw(win)\n",
    "    circ4.setFill('red')\n",
    "    \n",
    "def ex16():\n",
    "    os.chdir('C:\\\\Users\\\\autej\\\\Documents\\\\Zelle_Python')\n",
    "    win = GraphWin(\"Chapter 6 Exercise 16\", 500, 500)\n",
    "    img = Image(Point(250,250), 'mom.gif')\n",
    "    img.draw(win)\n",
    "    \n",
    "    p1 = win.getMouse()\n",
    "    p1.draw(win)\n",
    "    p2 = win.getMouse()\n",
    "    p2.draw(win)\n",
    "    radius = distance(p1, p2)\n",
    "    drawFace(p1, radius, win)\n",
    "\n",
    "ex16()"
   ]
  },
  {
   "cell_type": "markdown",
   "metadata": {},
   "source": [
    "# Chapter 6 Exercise 17##\n",
    "Solution to Programming Exercise 17 of Chapter 6 of Python Programming: An Introduction to Computer Science, John Zelle, 3rd Edition, Franklin, Beedle, and Associates"
   ]
  },
  {
   "cell_type": "code",
   "execution_count": null,
   "metadata": {},
   "outputs": [],
   "source": [
    "from graphics import *\n",
    "\n",
    "def moveTo(shape, newCenter):\n",
    "    center = shape.getCenter()\n",
    "    dx = newCenter.getX() - center.getX()\n",
    "    dy = newCenter.getY() - center.getY()\n",
    "    shape.move(dx,dy)\n",
    "\n",
    "def ex17():\n",
    "    win = GraphWin(\"Moving Circle\", 500, 500)\n",
    "    circ = Circle(Point(200,200), 50)\n",
    "    circ.draw(win)\n",
    "    for i in range(10):\n",
    "        p = win.getMouse()\n",
    "        moveTo(circ, p)\n",
    "    win.getMouse()\n",
    "    win.close()\n",
    "\n",
    "ex17()"
   ]
  }
 ],
 "metadata": {
  "kernelspec": {
   "display_name": "Python 3",
   "language": "python",
   "name": "python3"
  },
  "language_info": {
   "codemirror_mode": {
    "name": "ipython",
    "version": 3
   },
   "file_extension": ".py",
   "mimetype": "text/x-python",
   "name": "python",
   "nbconvert_exporter": "python",
   "pygments_lexer": "ipython3",
   "version": "3.7.6"
  }
 },
 "nbformat": 4,
 "nbformat_minor": 4
}
