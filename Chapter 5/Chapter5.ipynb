{
  "nbformat": 4,
  "nbformat_minor": 0,
  "metadata": {
    "colab": {
      "name": "Chapter5.ipynb",
      "provenance": [],
      "collapsed_sections": []
    },
    "kernelspec": {
      "name": "python3",
      "display_name": "Python 3"
    }
  },
  "cells": [
    {
      "cell_type": "markdown",
      "metadata": {
        "id": "Nlgjg5ybJgJh",
        "colab_type": "text"
      },
      "source": [
        "##Chapter 5 Exercise 1\n",
        "Solution to Programming Exercise 1 of Chapter 5 of Python Programming: An Introduction to Computer Science, John Zelle, 3rd Edition, Franklin, Beedle, and Associates"
      ]
    },
    {
      "cell_type": "code",
      "metadata": {
        "id": "XaBAIGf0hbeT",
        "colab_type": "code",
        "colab": {}
      },
      "source": [
        "def ex1():\n",
        "  # get the day month and year\n",
        "    day = int(input(\"Enter the day: \"))\n",
        "    month = int(input(\"Enter the the month: \"))\n",
        "    year = int(input(\"Enter the year: \"))\n",
        "\n",
        "    date1 = \"{0}/{1}/{2}\".format(month,day,year)\n",
        "\n",
        "    months = [\"January\", \"February\", \"March\", \"April\", \"May\", \"June\",\n",
        "              \"July\", \"August\", \"September\", \"October\", \"November\", \"December\"]\n",
        "    \n",
        "    date2 = \"{0} {1}, {2}\".format(months[month-1],day,year)\n",
        "\n",
        "    print(\"The date is {0} or {1}.\".format(date1, date2))\n",
        "\n",
        "\n",
        "ex1()\n"
      ],
      "execution_count": null,
      "outputs": []
    },
    {
      "cell_type": "markdown",
      "metadata": {
        "id": "rTqX8h-VJitd",
        "colab_type": "text"
      },
      "source": [
        "##Chapter 5 Exercise 2\n",
        "Solution to Programming Exercise 2 of Chapter 5 of Python Programming: An Introduction to Computer Science, John Zelle, 3rd Edition, Franklin, Beedle, and Associates"
      ]
    },
    {
      "cell_type": "code",
      "metadata": {
        "id": "-era7EqNFioW",
        "colab_type": "code",
        "colab": {}
      },
      "source": [
        "def ex2():\n",
        "    score = int(input(\"Enter the score: \"))\n",
        "    grade = \"FFDCBA\"[score]\n",
        "    print(\"The grade is\", grade)\n",
        "\n",
        "ex2()"
      ],
      "execution_count": null,
      "outputs": []
    },
    {
      "cell_type": "markdown",
      "metadata": {
        "id": "Gz3ocmhyJkmv",
        "colab_type": "text"
      },
      "source": [
        "##Chapter 5 Exercise 3\n",
        "Solution to Programming Exercise 3 of Chapter 5 of Python Programming: An Introduction to Computer Science, John Zelle, 3rd Edition, Franklin, Beedle, and Associates"
      ]
    },
    {
      "cell_type": "code",
      "metadata": {
        "id": "k6cFiNS2K5Xg",
        "colab_type": "code",
        "colab": {}
      },
      "source": [
        "def ex3():\n",
        "    score = int(input(\"Enter your score: \"))\n",
        "    grades = 60*\"F\"+10*\"D\"+10*\"C\"+10*\"B\"+11*\"A\"\n",
        "    print(\"Your grade is\", grades[score])\n",
        "\n",
        "ex3()"
      ],
      "execution_count": null,
      "outputs": []
    },
    {
      "cell_type": "markdown",
      "metadata": {
        "id": "hBSP4ywXJmMk",
        "colab_type": "text"
      },
      "source": [
        "##Chapter 5 Exercise 4\n",
        "Solution to Programming Exercise 4 of Chapter 5 of Python Programming: An Introduction to Computer Science, John Zelle, 3rd Edition, Franklin, Beedle, and Associates"
      ]
    },
    {
      "cell_type": "code",
      "metadata": {
        "id": "kOL-rZPOLjWi",
        "colab_type": "code",
        "colab": {}
      },
      "source": [
        "def ex4():\n",
        "    phrase = input(\"Enter your sentence: \")\n",
        "    acronym = \"\"\n",
        "    for word in phrase.split():\n",
        "        acronym = acronym + word[0]\n",
        "    acronym = acronym.upper()\n",
        "\n",
        "    print(\"The acronym is\", acronym)\n",
        "\n",
        "ex4()"
      ],
      "execution_count": null,
      "outputs": []
    },
    {
      "cell_type": "markdown",
      "metadata": {
        "id": "jxD8e0xhJnAI",
        "colab_type": "text"
      },
      "source": [
        "##Chapter 5 Exercise 5\n",
        "Solution to Programming Exercise 5 of Chapter 5 of Python Programming: An Introduction to Computer Science, John Zelle, 3rd Edition, Franklin, Beedle, and Associates"
      ]
    },
    {
      "cell_type": "code",
      "metadata": {
        "id": "OzMReWOYr6tt",
        "colab_type": "code",
        "colab": {}
      },
      "source": [
        "def ex5():\n",
        "\n",
        "    name = input(\"Enter a name: \")\n",
        "    total = 0\n",
        "    for letter in name:\n",
        "        total = total + ord(letter.lower()) - ord('a') + 1\n",
        "\n",
        "    print(\"The value is:\", total)\n",
        "\n",
        "ex5()"
      ],
      "execution_count": null,
      "outputs": []
    },
    {
      "cell_type": "markdown",
      "metadata": {
        "id": "YjOj_p3jJoW7",
        "colab_type": "text"
      },
      "source": [
        "##Chapter 5 Exercise 6\n",
        "Solution to Programming Exercise 6 of Chapter 5 of Python Programming: An Introduction to Computer Science, John Zelle, 3rd Edition, Franklin, Beedle, and Associates"
      ]
    },
    {
      "cell_type": "code",
      "metadata": {
        "id": "SOz1u1CVsStv",
        "colab_type": "code",
        "colab": {}
      },
      "source": [
        "def ex6():\n",
        "    names = input(\"Enter your name: \")\n",
        "\n",
        "    letters = \"\".join(names.split())\n",
        "    total = 0\n",
        "    for letter in letters:\n",
        "        total = total + ord(letter.lower()) - ord('a') + 1\n",
        "\n",
        "    print(\"The value is:\", total)\n",
        "\n",
        "ex6()"
      ],
      "execution_count": null,
      "outputs": []
    },
    {
      "cell_type": "markdown",
      "metadata": {
        "id": "61cMwyluJpDO",
        "colab_type": "text"
      },
      "source": [
        "##Chapter 5 Exercise 7\n",
        "Solution to Programming Exercise 7 of Chapter 5 of Python Programming: An Introduction to Computer Science, John Zelle, 3rd Edition, Franklin, Beedle, and Associates"
      ]
    },
    {
      "cell_type": "code",
      "metadata": {
        "id": "ZN56O0ndsmcS",
        "colab_type": "code",
        "colab": {}
      },
      "source": [
        "def ex7():\n",
        "\n",
        "    key = int(input(\"Enter the key value: \"))\n",
        "    plain = input(\"Enter the phrase to encode: \")\n",
        "    cipher = \"\"\n",
        "    for letter in plain:\n",
        "        cipher = cipher + chr(ord(letter) + key)\n",
        "\n",
        "    print(\"Encoded message follows:\")\n",
        "    print(cipher)\n",
        "\n",
        "ex7()\n"
      ],
      "execution_count": null,
      "outputs": []
    },
    {
      "cell_type": "markdown",
      "metadata": {
        "id": "XqEXIjbjJqU7",
        "colab_type": "text"
      },
      "source": [
        "##Chapter 5 Exercise 8\n",
        "Solution to Programming Exercise 8 of Chapter 5 of Python Programming: An Introduction to Computer Science, John Zelle, 3rd Edition, Franklin, Beedle, and Associates"
      ]
    },
    {
      "cell_type": "code",
      "metadata": {
        "id": "A9d2AxBHtuSf",
        "colab_type": "code",
        "colab": {}
      },
      "source": [
        "def ex8():\n",
        "\n",
        "    key = int(input(\"Enter the key value: \"))\n",
        "    phrase = input(\"Enter the phrase to encode: \")\n",
        "\n",
        "    chars = \"ABCDEFGHIJKLMNOPQRSTUVWXYZ abcdefghijklmnopqrstuvwxyz\"\n",
        "\n",
        "    cipher = \"\"\n",
        "    for letter in phrase:\n",
        "        pos = chars.find(letter)\n",
        "        newpos = (pos + key) % len(chars)\n",
        "        cipher = cipher + chars[newpos]\n",
        "\n",
        "    print(\"Encoded message follows:\")\n",
        "    print(cipher)\n",
        "\n",
        "ex8()"
      ],
      "execution_count": null,
      "outputs": []
    },
    {
      "cell_type": "markdown",
      "metadata": {
        "id": "7_7Qm3VDJrpv",
        "colab_type": "text"
      },
      "source": [
        "##Chapter 5 Exercise 9\n",
        "Solution to Programming Exercise 9 of Chapter 5 of Python Programming: An Introduction to Computer Science, John Zelle, 3rd Edition, Franklin, Beedle, and Associates"
      ]
    },
    {
      "cell_type": "code",
      "metadata": {
        "id": "1FQuyijqwwHY",
        "colab_type": "code",
        "colab": {}
      },
      "source": [
        "def ex9():\n",
        "    phrase = input(\"Enter your phrase: \")\n",
        "\n",
        "    \n",
        "    count = 0\n",
        "    for i in phrase.split():\n",
        "        count = count + 1\n",
        "\n",
        "    print(\"Number of words:\", count)\n",
        "\n",
        "ex9()"
      ],
      "execution_count": null,
      "outputs": []
    },
    {
      "cell_type": "markdown",
      "metadata": {
        "id": "HaRiVX__JtE3",
        "colab_type": "text"
      },
      "source": [
        "##Chapter 5 Exercise 10\n",
        "Solution to Programming Exercise 10 of Chapter 5 of Python Programming: An Introduction to Computer Science, John Zelle, 3rd Edition, Franklin, Beedle, and Associates"
      ]
    },
    {
      "cell_type": "code",
      "metadata": {
        "id": "Q6i00cpO63ao",
        "colab_type": "code",
        "colab": {}
      },
      "source": [
        "def ex10():\n",
        "\n",
        "    phrase = input(\"Enter your phrase: \")\n",
        "    count = 0\n",
        "    total = 0\n",
        "    for word in phrase.split():\n",
        "        total = total + len(word)\n",
        "        count = count + 1\n",
        "\n",
        "    print(\"Average word length\", total / count)\n",
        "\n",
        "ex10()"
      ],
      "execution_count": null,
      "outputs": []
    },
    {
      "cell_type": "markdown",
      "metadata": {
        "id": "Pyfgw3MhJuQM",
        "colab_type": "text"
      },
      "source": [
        "##Chapter 5 Exercise 11\n",
        "Solution to Programming Exercise 11 of Chapter 5 of Python Programming: An Introduction to Computer Science, John Zelle, 3rd Edition, Franklin, Beedle, and Associates"
      ]
    },
    {
      "cell_type": "code",
      "metadata": {
        "id": "M519ZstP7LS7",
        "colab_type": "code",
        "colab": {}
      },
      "source": [
        "def ex11():\n",
        "    x1 = float(input(\"Enter the first value between 0 and 1: \"))\n",
        "    x2 = float(input(\"Enter the second value between 0 and 1: \"))\n",
        "    print()\n",
        "    print(\"index     \", x1, \"       \", x2)\n",
        "    print(\".............................\")\n",
        "    for i in range(1, 11):\n",
        "        x1 = 3.9 * x1 * (1 - x1)\n",
        "        x2 = 3.9 * x2 * (1 - x2)\n",
        "        print(\"{0:2} {1:15.6f} {2:10.6f}\".format(i, x1, x2))\n",
        "\n",
        "ex11()\n"
      ],
      "execution_count": null,
      "outputs": []
    },
    {
      "cell_type": "markdown",
      "metadata": {
        "id": "amRwM66IJveM",
        "colab_type": "text"
      },
      "source": [
        "##Chapter 5 Exercise 12\n",
        "Solution to Programming Exercise 12 of Chapter 5 of Python Programming: An Introduction to Computer Science, John Zelle, 3rd Edition, Franklin, Beedle, and Associates"
      ]
    },
    {
      "cell_type": "code",
      "metadata": {
        "id": "wxkWxXQZ7kl8",
        "colab_type": "code",
        "colab": {}
      },
      "source": [
        "def ex12():\n",
        "   \n",
        "    princi = float(input(\"Enter the initial principal: \"))\n",
        "    apr = float(input(\"Enter the annualized interest rate: \"))\n",
        "    yrs = int(input(\"Enter the number of years: \"))\n",
        "\n",
        "    print(\"Year   Value\")\n",
        "    print(\"...............\")\n",
        "    for i in range(yrs+1):\n",
        "        print(\"{0:3}   ${1:7.2f}\".format(i, princi))\n",
        "        principal = princi * (1 + apr)\n",
        "\n",
        "ex12()"
      ],
      "execution_count": null,
      "outputs": []
    },
    {
      "cell_type": "markdown",
      "metadata": {
        "id": "0N_HewOHJw7z",
        "colab_type": "text"
      },
      "source": [
        "##Chapter 5 Exercise 13\n",
        "Solution to Programming Exercise 13 of Chapter 5 of Python Programming: An Introduction to Computer Science, John Zelle, 3rd Edition, Franklin, Beedle, and Associates"
      ]
    },
    {
      "cell_type": "code",
      "metadata": {
        "id": "2w9QhH6S81KB",
        "colab_type": "code",
        "colab": {}
      },
      "source": [
        "def ex13():\n",
        "\n",
        "    fileNamein = input(\"Enter name of the input file: \")\n",
        "    Afile = open(fileNamein,'r')\n",
        "    key = int(fileNamein.readline())\n",
        "\n",
        "    FileNameout = input(\"Enter name of output file: \")\n",
        "    Bfile = open(outName, 'w')\n",
        "    \n",
        "\n",
        "    chars = \"ABCDEFGHIJKLMNOPQRSTUVWXYZ abcdefghijklmnopqrstuvwxyz\"\n",
        "\n",
        "    for line in fileNamein:\n",
        "        for letter in line[:-1]:\n",
        "            pos = chars.find(letter)\n",
        "            newpos = (pos + key) % len(chars)\n",
        "            print(chars[newpos], file=FileNameout, end=\"\")\n",
        "        print(file=FileNameout)\n",
        "\n",
        "    fileNamein.close()\n",
        "    fileNameout.close()\n",
        "    print(\"Done\")\n",
        "\n",
        "\n",
        "ex13()"
      ],
      "execution_count": null,
      "outputs": []
    },
    {
      "cell_type": "markdown",
      "metadata": {
        "id": "8YlO7ZG7Ksin",
        "colab_type": "text"
      },
      "source": [
        "##Chapter 5 Exercise 14\n",
        "Solution to Programming Exercise 14 of Chapter 5 of Python Programming: An Introduction to Computer Science, John Zelle, 3rd Edition, Franklin, Beedle, and Associates"
      ]
    },
    {
      "cell_type": "code",
      "metadata": {
        "id": "tjn9ZQ9y-VQy",
        "colab_type": "code",
        "colab": {}
      },
      "source": [
        "def ex14():\n",
        "\n",
        "    filname = input(\"Enter filename: \")\n",
        "    inpfile = open(filname, 'r')\n",
        "    chars = inpfile.read()\n",
        "    inpfile.close()\n",
        "    \n",
        "    words = chars.split()\n",
        "    lines = chars.split(\"\\n\")\n",
        "\n",
        "    print(\"Characters:\", len(chars))\n",
        "    print(\"Words:\", len(words))\n",
        "    print(\"Lines:\", len(lines))\n",
        "\n",
        "ex14()"
      ],
      "execution_count": null,
      "outputs": []
    }
  ]
}