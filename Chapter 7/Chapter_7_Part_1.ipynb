{
  "nbformat": 4,
  "nbformat_minor": 0,
  "metadata": {
    "colab": {
      "name": "Chapter 7 Part 1.ipynb",
      "provenance": [],
      "collapsed_sections": []
    },
    "kernelspec": {
      "name": "python3",
      "display_name": "Python 3"
    }
  },
  "cells": [
    {
      "cell_type": "markdown",
      "metadata": {
        "id": "ayUF9w3GN4zf",
        "colab_type": "text"
      },
      "source": [
        "# Chapter 7 Exercise 1##\n",
        "Solution to Programming Exercise 1 of Chapter 7 of Python Programming: An Introduction to Computer Science, John Zelle, 3rd Edition, Franklin, Beedle, and Associates"
      ]
    },
    {
      "cell_type": "code",
      "metadata": {
        "id": "lXYdUtOgXHSL",
        "colab_type": "code",
        "colab": {}
      },
      "source": [
        "def ex1():\n",
        "  hours = float(input(\"Enter hours worked: \"))\n",
        "  wage = float(input(\"Enter hourly wage: \"))\n",
        "  if hours <= 40:\n",
        "    pay = hours * wage\n",
        "  else:\n",
        "    pay = 40 * wage + (hours-40) * 1.5 * wage\n",
        "  \n",
        "  print(\"Your week's pay is ${0:0.2f}\".format(pay))\n",
        "\n",
        "if __name__ == '__main__':       \n",
        "  ex1()"
      ],
      "execution_count": null,
      "outputs": []
    },
    {
      "cell_type": "markdown",
      "metadata": {
        "id": "8k5Uu1D5N8xV",
        "colab_type": "text"
      },
      "source": [
        "# Chapter 7 Exercise 2##\n",
        "Solution to Programming Exercise 2 of Chapter 7 of Python Programming: An Introduction to Computer Science, John Zelle, 3rd Edition, Franklin, Beedle, and Associates"
      ]
    },
    {
      "cell_type": "code",
      "metadata": {
        "id": "FNbC5MAkYWdj",
        "colab_type": "code",
        "colab": {}
      },
      "source": [
        "def ex2():\n",
        "  score = float(input(\"Enter the score (0-5): \"))\n",
        "  if score < 2:\n",
        "    grade = \"F\"\n",
        "  elif score < 3:\n",
        "    grade = \"D\"\n",
        "  elif score < 4:\n",
        "    grade = \"C\"\n",
        "  elif score < 5:\n",
        "    grade = \"B\"\n",
        "  else:\n",
        "    grade = \"A\"\n",
        "  print(\"Grade is\", grade)\n",
        "\n",
        "if __name__ == '__main__':\n",
        "  ex2()"
      ],
      "execution_count": null,
      "outputs": []
    },
    {
      "cell_type": "markdown",
      "metadata": {
        "id": "D9IoLY6MOC_1",
        "colab_type": "text"
      },
      "source": [
        "# Chapter 7 Exercise 3##\n",
        "Solution to Programming Exercise 3 of Chapter 7 of Python Programming: An Introduction to Computer Science, John Zelle, 3rd Edition, Franklin, Beedle, and Associates"
      ]
    },
    {
      "cell_type": "code",
      "metadata": {
        "id": "042q3N0YY8X7",
        "colab_type": "code",
        "colab": {}
      },
      "source": [
        "def ex3():\n",
        "  score = float(input(\"Enter the score (0-100): \"))\n",
        "  if score < 60:\n",
        "    grade = \"F\"\n",
        "  elif score < 70:\n",
        "    grade = \"D\"\n",
        "  elif score < 80:\n",
        "    grade = \"C\"\n",
        "  elif score < 90:\n",
        "    grade = \"B\"\n",
        "  else:\n",
        "    grade = \"A\"\n",
        "  print(\"Grade is\", grade)\n",
        "\n",
        "if __name__ == '__main__':       \n",
        "  ex3()"
      ],
      "execution_count": null,
      "outputs": []
    },
    {
      "cell_type": "markdown",
      "metadata": {
        "id": "4QMSp3VnOGHV",
        "colab_type": "text"
      },
      "source": [
        "# Chapter 7 Exercise 4##\n",
        "Solution to Programming Exercise 4 of Chapter 7 of Python Programming: An Introduction to Computer Science, John Zelle, 3rd Edition, Franklin, Beedle, and Associates"
      ]
    },
    {
      "cell_type": "code",
      "metadata": {
        "id": "8VDCOiZ4Zm1o",
        "colab_type": "code",
        "colab": {}
      },
      "source": [
        "def ex4():\n",
        "  creds = float(input(\"Enter the amount of credits: \"))\n",
        "  if creds < 7:\n",
        "    credits = \"freshman\"\n",
        "  elif creds < 16:\n",
        "    credits = \"sophmore\"\n",
        "  elif creds < 26:\n",
        "    credits = \"junior\"\n",
        "  else: \n",
        "    credits = \"senior\"\n",
        "  print(\"You are a\", credits)\n",
        "\n",
        "if __name__ == '__main__':       \n",
        "  ex4()"
      ],
      "execution_count": null,
      "outputs": []
    },
    {
      "cell_type": "markdown",
      "metadata": {
        "id": "Z3i3X0FXOJtn",
        "colab_type": "text"
      },
      "source": [
        "# Chapter 7 Exercise 5##\n",
        "Solution to Programming Exercise 5 of Chapter 7 of Python Programming: An Introduction to Computer Science, John Zelle, 3rd Edition, Franklin, Beedle, and Associates"
      ]
    },
    {
      "cell_type": "code",
      "metadata": {
        "id": "Lsniiu3AcoJv",
        "colab_type": "code",
        "colab": {}
      },
      "source": [
        "def ex5():\n",
        "  weight = float(input(\"Enter your weight: \"))\n",
        "  height = float(input(\"Enter your height in inchest: \"))\n",
        "  BMI = 270 * weight/(height ** 2)\n",
        "  if BMI < 19:\n",
        "    print(\"Your BMI is low my friend, gain some weight\")\n",
        "  elif BMI < 26:\n",
        "    print(\"Your BMI is high my friend, lose some weight\")\n",
        "  else: \n",
        "    print(\"Your BMI is great\")\n",
        "\n",
        "if __name__ == '__main__':       \n",
        "  ex5()"
      ],
      "execution_count": null,
      "outputs": []
    },
    {
      "cell_type": "markdown",
      "metadata": {
        "id": "rKvUrjSPOOnt",
        "colab_type": "text"
      },
      "source": [
        "# Chapter 7 Exercise 6##\n",
        "Solution to Programming Exercise 6 of Chapter 7 of Python Programming: An Introduction to Computer Science, John Zelle, 3rd Edition, Franklin, Beedle, and Associates"
      ]
    },
    {
      "cell_type": "code",
      "metadata": {
        "id": "LTIrgASPd0FU",
        "colab_type": "code",
        "colab": {}
      },
      "source": [
        "def ex6():\n",
        "  speedlimit = float(input(\"Enter the speed limit: \"))\n",
        "  clockedspeed = float(input(\"Enter the clocked speed: \"))\n",
        "  penaltyprice = 50 + (5 * (clockedspeed - speedlimit))\n",
        "  if clockedspeed > 90:\n",
        "    price = 200 + penaltyprice\n",
        "    print(\"Your cost is $\", price)\n",
        "  else: \n",
        "    print(\"Your cost is $\", penaltyprice)\n",
        "\n",
        "if __name__ == '__main__':       \n",
        "  ex6()\n"
      ],
      "execution_count": null,
      "outputs": []
    },
    {
      "cell_type": "markdown",
      "metadata": {
        "id": "RNEEbsmxOVKX",
        "colab_type": "text"
      },
      "source": [
        "# Chapter 7 Exercise 7##\n",
        "Solution to Programming Exercise 7 of Chapter 7 of Python Programming: An Introduction to Computer Science, John Zelle, 3rd Edition, Franklin, Beedle, and Associates"
      ]
    },
    {
      "cell_type": "code",
      "metadata": {
        "id": "KOjjJgJknTN6",
        "colab_type": "code",
        "colab": {}
      },
      "source": [
        "def ex7():\n",
        "    \n",
        "    print(\"Enter your times using international time(24 hour day)\")\n",
        "    strtHours, strtMins = input(\"Starting time (hh:mm): \").split(\":\")\n",
        "    endHours, endMins = input(\"Ending time (hh:mm): \").split(\":\")\n",
        "\n",
        "    \n",
        "    start = int(strtHours) + float(strtMins)/60.0\n",
        "    end = int(endHours) + float(endMins)/60.0\n",
        "\n",
        "    if end < start: \n",
        "        end = end + 24\n",
        "\n",
        "    bedtime = 21.0\n",
        "    if start < bedtime:\n",
        "      if end < bedtime:\n",
        "          prebedtime = end - start\n",
        "          afterbedtime = 0.0\n",
        "      else:\n",
        "            prebedtime = bedtime - start\n",
        "            afterbedtime = end - bedtime\n",
        "    else:\n",
        "        prebedtime = 0.0\n",
        "        afterbedtime = end - start\n",
        "\n",
        "    salary = 2.50 * prebedtime + 1.75 * afterbedtime\n",
        "    print(\"Total payment due: ${0:0.2f}\".format(salary))\n",
        "\n",
        "if __name__ == '__main__':       \n",
        "  ex7()"
      ],
      "execution_count": null,
      "outputs": []
    },
    {
      "cell_type": "markdown",
      "metadata": {
        "id": "WH2y1kePOZJC",
        "colab_type": "text"
      },
      "source": [
        "# Chapter 7 Exercise 8##\n",
        "Solution to Programming Exercise 8 of Chapter 7 of Python Programming: An Introduction to Computer Science, John Zelle, 3rd Edition, Franklin, Beedle, and Associates"
      ]
    },
    {
      "cell_type": "code",
      "metadata": {
        "id": "eTJTgjp0o1GM",
        "colab_type": "code",
        "colab": {}
      },
      "source": [
        "def ex8():\n",
        "    age = int(input(\"Enter your age: \"))\n",
        "    residency = int(input(\"Enter years of residency: \"))\n",
        "    if age > 29:\n",
        "        if residency > 8:\n",
        "            print(\"You are eligible for the Senate and the House.\")\n",
        "        elif residency > 6:\n",
        "            print(\"You are eligible only for the House.\")\n",
        "        else:\n",
        "            print(\"You are not eligible for Congress.\")\n",
        "    elif age > 24:\n",
        "        if residency > 6:\n",
        "            print(\"You are eligible only for the House.\")\n",
        "        else:\n",
        "            print(\"You are not eligible for Congress.\")\n",
        "    else:\n",
        "        print(\"You are not eligible for Congress.\")\n",
        "\n",
        "if __name__ == '__main__':       \n",
        "  ex8()"
      ],
      "execution_count": null,
      "outputs": []
    },
    {
      "cell_type": "markdown",
      "metadata": {
        "id": "allDIMNmOfBr",
        "colab_type": "text"
      },
      "source": [
        "# Chapter 7 Exercise 9##\n",
        "Solution to Programming Exercise 9 of Chapter 7 of Python Programming: An Introduction to Computer Science, John Zelle, 3rd Edition, Franklin, Beedle, and Associates"
      ]
    },
    {
      "cell_type": "code",
      "metadata": {
        "id": "-y4Xe8umpCPB",
        "colab_type": "code",
        "colab": {}
      },
      "source": [
        "def ex9():\n",
        "\n",
        "    year = int(input(\"Enter the year you are in: \"))\n",
        "    if 1982 <= year <= 2048:\n",
        "        a = year % 19\n",
        "        b = year % 4\n",
        "        c = year % 7\n",
        "        d = (19*a + 24) % 30\n",
        "        e = (2*b + 4*c + 6*d +5)%7\n",
        "\n",
        "        day = 22 + d + e\n",
        "        if day > 31:\n",
        "            print(\"Easter is in April\", day - 31)\n",
        "        else:\n",
        "            print(\"Easter is in March\", day)\n",
        "    else:\n",
        "        print(\"That's not a year between 1982 and 2048.\")\n",
        "\n",
        "if __name__ == '__main__':       \n",
        "  ex9()"
      ],
      "execution_count": null,
      "outputs": []
    },
    {
      "cell_type": "markdown",
      "metadata": {
        "id": "QNBFv4n6OhzF",
        "colab_type": "text"
      },
      "source": [
        "# Chapter 7 Exercise 10##\n",
        "Solution to Programming Exercise 10 of Chapter 7 of Python Programming: An Introduction to Computer Science, John Zelle, 3rd Edition, Franklin, Beedle, and Associates"
      ]
    },
    {
      "cell_type": "code",
      "metadata": {
        "id": "VTlD4c9L-J22",
        "colab_type": "code",
        "colab": {}
      },
      "source": [
        "def ex10():\n",
        "  year = int(input(\"Enter the year you are in: \"))\n",
        "  if 1900 <= year <= 2099:\n",
        "    a = year % 19\n",
        "    b = year % 4\n",
        "    c = year % 7\n",
        "    d = (19*a + 24) % 30\n",
        "    e = (2*b + 4*c + 6*d +5)%7\n",
        "\n",
        "    day = 22 + d + e\n",
        "\n",
        "    if year == 1954 or year == 1981 or year == 2049 or year == 2076:\n",
        "      day = day - 7\n",
        "      \n",
        "    if day > 31:\n",
        "      print(\"Easter is in April\", day - 31)\n",
        "    else:\n",
        "      print(\"Easter is in March\", day)\n",
        "  else:\n",
        "    print(\"That's not a year between 1900 and 2099.\")\n",
        "        \n",
        "if __name__ == '__main__':       \n",
        "  ex10()"
      ],
      "execution_count": null,
      "outputs": []
    },
    {
      "cell_type": "markdown",
      "metadata": {
        "id": "LE_j6xn5Ok9D",
        "colab_type": "text"
      },
      "source": [
        "# Chapter 7 Exercise 11##\n",
        "Solution to Programming Exercise 11 of Chapter 7 of Python Programming: An Introduction to Computer Science, John Zelle, 3rd Edition, Franklin, Beedle, and Associates"
      ]
    },
    {
      "cell_type": "code",
      "metadata": {
        "id": "fgzDIk_tciXX",
        "colab_type": "code",
        "colab": {}
      },
      "source": [
        "def Leap(year):\n",
        "    if year % 4 != 0:\n",
        "        return False\n",
        "    elif year % 100 == 0:\n",
        "        if year % 400 == 0:\n",
        "            return True\n",
        "        else:\n",
        "            return False\n",
        "    else:\n",
        "        return True\n",
        "\n",
        "def ex11():\n",
        "    year = int(input(\"Enter the year: \"))\n",
        "    if Leap(year):\n",
        "        print(year, \"leap year.\")\n",
        "    else:\n",
        "        print(year, \"not a leap year.\")\n",
        "        \n",
        "if __name__ == '__ex11__':\n",
        "    ex11()\n"
      ],
      "execution_count": null,
      "outputs": []
    },
    {
      "cell_type": "markdown",
      "metadata": {
        "id": "U9W_C-OZOoe7",
        "colab_type": "text"
      },
      "source": [
        "# Chapter 7 Exercise 12##\n",
        "Solution to Programming Exercise 12 of Chapter 7 of Python Programming: An Introduction to Computer Science, John Zelle, 3rd Edition, Franklin, Beedle, and Associates"
      ]
    },
    {
      "cell_type": "code",
      "metadata": {
        "id": "83tE0rQWdV4v",
        "colab_type": "code",
        "colab": {}
      },
      "source": [
        "ENDINGDAYSINTHEMONTH = [0, 31, 28, 31, 30, 31, 30, 31, 31, 30, 31, 30, 31]\n",
        "\n",
        "def Leap(year):\n",
        "  if year % 4 != 0:\n",
        "    return False\n",
        "  elif year % 100 == 0:\n",
        "    if year % 400 == 0:\n",
        "      return True\n",
        "    else:\n",
        "      return False\n",
        "  else:\n",
        "    return True\n",
        "\n",
        "def ValidDate(month, day, year):\n",
        "  if 1 <= month <=12:\n",
        "    if month == 2:\n",
        "      if Leap(year):\n",
        "        lastDayofyear = 29\n",
        "      else:\n",
        "        lastDayofyear = 28\n",
        "    else:\n",
        "      lastDayofyear = ENDINGDAYSINTHEMONTH[month]\n",
        "\n",
        "        \n",
        "      if 1 <= day <= lastDayofyear:\n",
        "        return True\n",
        "        return False \n",
        "    \n",
        "\n",
        "def ex12():\n",
        "    month, day, year = input(\"Enter a date (mm/dd/yyyy): \").split(\"/\")\n",
        "    if ValidDate(int(month), int(day), int(year)):\n",
        "        print(\"The date is valid.\")\n",
        "    else:\n",
        "        print(\"The date is invalid.\")\n",
        "\n",
        "if __name__ == '__ex12__':\n",
        "    ex12()\n"
      ],
      "execution_count": null,
      "outputs": []
    },
    {
      "cell_type": "markdown",
      "metadata": {
        "id": "sU6345XHOsG0",
        "colab_type": "text"
      },
      "source": [
        "# Chapter 7 Exercise 13##\n",
        "Solution to Programming Exercise 13 of Chapter 7 of Python Programming: An Introduction to Computer Science, John Zelle, 3rd Edition, Franklin, Beedle, and Associates"
      ]
    },
    {
      "cell_type": "code",
      "metadata": {
        "id": "6hJbUBaYiDl7",
        "colab_type": "code",
        "colab": {}
      },
      "source": [
        "DAYSINTHEMONTH = [0, 31, 28, 31, 30, 31, 30, 31, 31, 30, 31, 30, 31]\n",
        "\n",
        "def Leap(year):\n",
        "  if year % 4 != 0:\n",
        "    return False\n",
        "  elif year % 100 == 0:\n",
        "    if year % 400 == 0:\n",
        "      return True\n",
        "    else:\n",
        "      return False\n",
        "  else:\n",
        "    return True\n",
        "def ValidDate(month, day, year):\n",
        "    if 1 <= month <=12:\n",
        "        # month OK, check day\n",
        "        \n",
        "        # determine last day of month\n",
        "        if month == 2:\n",
        "            if Leap(year):\n",
        "                lastDay = 29\n",
        "            else:\n",
        "                lastDay = 28\n",
        "        else:\n",
        "            lastDay = DAYSINTHEMONTH[month]\n",
        "\n",
        "        # if day is also good, return True\n",
        "        if 1 <= day <= lastDay:\n",
        "            return True\n",
        "        \n",
        "    # did not validate\n",
        "    return False \n",
        "    \n",
        "\n",
        "def main():\n",
        "    month, day, year = input(\"Enter a date (mm/dd/yyyy): \").split(\"/\")\n",
        "    if ValidDate(int(month), int(day), int(year)):\n",
        "        print(\"The date is valid.\")\n",
        "    else:\n",
        "        print(\"The date is invalid.\")\n",
        "\n",
        "if __name__ == '__ex13__':\n",
        "    ex13()"
      ],
      "execution_count": null,
      "outputs": []
    },
    {
      "cell_type": "markdown",
      "metadata": {
        "id": "UY_hx2hZOyaV",
        "colab_type": "text"
      },
      "source": [
        "# Chapter 7 Exercise 18##\n",
        "Solution to Programming Exercise 18 of Chapter 7 of Python Programming: An Introduction to Computer Science, John Zelle, 3rd Edition, Franklin, Beedle, and Associates"
      ]
    },
    {
      "cell_type": "code",
      "metadata": {
        "id": "dLx8FS7ff6Et",
        "colab_type": "code",
        "colab": {}
      },
      "source": [
        "def ex18():\n",
        "  score = float(input(\"Enter the score (0-5): \"))\n",
        "  if score < 2:\n",
        "    grade = \"F\"\n",
        "  elif score < 3:\n",
        "    grade = \"D\"\n",
        "  elif score < 4:\n",
        "    grade = \"C\"\n",
        "  elif score < 5:\n",
        "    grade = \"B\"\n",
        "  elif score > 5:\n",
        "    print(\"Write answers 1 through 5\")\n",
        "  else:\n",
        "    grade = \"A\"\n",
        "  print(\"Grade is\", grade)\n",
        "\n",
        "if __name__ == '__main__':\n",
        "  ex18()"
      ],
      "execution_count": null,
      "outputs": []
    },
    {
      "cell_type": "code",
      "metadata": {
        "id": "89KBPEUJlzI2",
        "colab_type": "code",
        "colab": {}
      },
      "source": [
        ""
      ],
      "execution_count": null,
      "outputs": []
    }
  ]
}