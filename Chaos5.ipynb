{
  "nbformat": 4,
  "nbformat_minor": 0,
  "metadata": {
    "colab": {
      "name": "Chaos5.ipynb",
      "provenance": [],
      "collapsed_sections": [],
      "authorship_tag": "ABX9TyNTtX147KJYxlZfXa1RZiz+",
      "include_colab_link": true
    },
    "kernelspec": {
      "name": "python3",
      "display_name": "Python 3"
    }
  },
  "cells": [
    {
      "cell_type": "markdown",
      "metadata": {
        "id": "view-in-github",
        "colab_type": "text"
      },
      "source": [
        "<a href=\"https://colab.research.google.com/github/autejwani/Python_Programming_John_Zelle/blob/master/Chaos5.ipynb\" target=\"_parent\"><img src=\"https://colab.research.google.com/assets/colab-badge.svg\" alt=\"Open In Colab\"/></a>"
      ]
    },
    {
      "cell_type": "code",
      "metadata": {
        "id": "kx750zkFUt18",
        "colab_type": "code",
        "colab": {
          "base_uri": "https://localhost:8080/",
          "height": 150
        },
        "outputId": "29ddfa6f-6327-431b-d2a3-50cf6da704fc"
      },
      "source": [
        "# File: chaos5.py\n",
        "# A simple program illustrating chaotic behavior.  It prints out values based on the preference of the user.\n",
        "# Solution to Programming Exercise 5 of Chapter 1 of Python Programming:\n",
        "# An Introduction to Computer Science, 3rd Edition, Franklin, Beedle, and \n",
        "# Associates\n",
        "\n",
        "def main():\n",
        "  print(\"This program illustrates a chaotic function\")\n",
        "  n = eval(input(\"How many numbers should I print? \"))\n",
        "  x = eval(input(\"Enter a number between 0 and 1: \"))\n",
        "  for i in range(n):\n",
        "    x = 3.9 * x * (1 - x)\n",
        "    print(x)\n",
        "\n",
        "main()"
      ],
      "execution_count": 10,
      "outputs": [
        {
          "output_type": "stream",
          "text": [
            "This program illustrates a chaotic function\n",
            "How many numbers should I print? 5\n",
            "Enter a number between 0 and 1: 0.5\n",
            "0.975\n",
            "0.09506250000000008\n",
            "0.33549992226562525\n",
            "0.8694649252590003\n",
            "0.44263310911310905\n"
          ],
          "name": "stdout"
        }
      ]
    }
  ]
}