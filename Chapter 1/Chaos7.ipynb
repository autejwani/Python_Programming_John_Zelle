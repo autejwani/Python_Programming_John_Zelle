{
  "nbformat": 4,
  "nbformat_minor": 0,
  "metadata": {
    "colab": {
      "name": "Chaos7.ipynb",
      "provenance": [],
      "collapsed_sections": [],
      "authorship_tag": "ABX9TyPJSjvLoj7+wlPDbeMx5FHc",
      "include_colab_link": true
    },
    "kernelspec": {
      "name": "python3",
      "display_name": "Python 3"
    }
  },
  "cells": [
    {
      "cell_type": "markdown",
      "metadata": {
        "id": "view-in-github",
        "colab_type": "text"
      },
      "source": [
        "<a href=\"https://colab.research.google.com/github/autejwani/Python_Programming_John_Zelle/blob/master/Chapter%201/Chaos7.ipynb\" target=\"_parent\"><img src=\"https://colab.research.google.com/assets/colab-badge.svg\" alt=\"Open In Colab\"/></a>"
      ]
    },
    {
      "cell_type": "code",
      "metadata": {
        "id": "jAkQ7TShmgXz",
        "colab_type": "code",
        "colab": {
          "base_uri": "https://localhost:8080/",
          "height": 400
        },
        "outputId": "bdd0f5e0-efdd-47fe-d100-3edbf3ad9778"
      },
      "source": [
        "# File: chaos7.py\n",
        "# A simple program illustrating chaotic behavior.  It prints out 20 values.\n",
        "# Solution to Programming Exercise 7 of Chapter 1 of Python Programming:\n",
        "# An Introduction to Computer Science, 3rd Edition, Franklin, Beedle, and \n",
        "# Associates\n",
        "# Here \"\\t\" inserts a tab\n",
        "\n",
        "def main():\n",
        "    print(\"This program illustrates a chaotic function\")\n",
        "    x = eval(input(\"Enter a number between 0 and 1: \"))\n",
        "    b = eval(input(\"Enter a number between 0 and 1: \"))\n",
        "    for i in range(20):\n",
        "        x = 3.9 * x * (1 - x)\n",
        "        b = 3.9 * b * (1 - b)\n",
        "        print(x, \"\\t\", b)\n",
        "\n",
        "main()"
      ],
      "execution_count": 4,
      "outputs": [
        {
          "output_type": "stream",
          "text": [
            "This program illustrates a chaotic function\n",
            "Enter a number between 0 and 1: 0.5\n",
            "Enter a number between 0 and 1: 0.6\n",
            "0.975 \t 0.9359999999999999\n",
            "0.09506250000000008 \t 0.2336256000000002\n",
            "0.33549992226562525 \t 0.6982742481960964\n",
            "0.8694649252590003 \t 0.8216805577588637\n",
            "0.44263310911310905 \t 0.5714343131637907\n",
            "0.962165255336889 \t 0.9550988417209882\n",
            "0.1419727793616139 \t 0.16725167263043805\n",
            "0.4750843861996143 \t 0.5431863474677594\n",
            "0.9725789275369049 \t 0.9677262636303364\n",
            "0.1040097132674683 \t 0.12180535501057962\n",
            "0.36344760197260056 \t 0.4171783609551725\n",
            "0.90227842611257 \t 0.9482482468131205\n",
            "0.34387106474913476 \t 0.19138668599295894\n",
            "0.8799326467519814 \t 0.6035555074286068\n",
            "0.4120396173349332 \t 0.9331774018366947\n",
            "0.9448255872175185 \t 0.24319362029824174\n",
            "0.20330776813070028 \t 0.7177968850434577\n",
            "0.6316975062388134 \t 0.7900016157749308\n",
            "0.907357490716863 \t 0.6470063451069247\n",
            "0.3278335115517574 \t 0.8907176245433847\n"
          ],
          "name": "stdout"
        }
      ]
    }
  ]
}