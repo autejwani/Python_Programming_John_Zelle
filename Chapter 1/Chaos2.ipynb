{
  "nbformat": 4,
  "nbformat_minor": 0,
  "metadata": {
    "colab": {
      "name": "Chaos2.ipynb",
      "provenance": [],
      "collapsed_sections": [],
      "include_colab_link": true
    },
    "kernelspec": {
      "name": "python3",
      "display_name": "Python 3"
    }
  },
  "cells": [
    {
      "cell_type": "markdown",
      "metadata": {
        "id": "view-in-github",
        "colab_type": "text"
      },
      "source": [
        "<a href=\"https://colab.research.google.com/github/autejwani/Python_Programming_John_Zelle/blob/master/Chapter%201/Chaos2.ipynb\" target=\"_parent\"><img src=\"https://colab.research.google.com/assets/colab-badge.svg\" alt=\"Open In Colab\"/></a>"
      ]
    },
    {
      "cell_type": "code",
      "metadata": {
        "id": "IWIwjC7jmCiE",
        "colab_type": "code",
        "outputId": "9f4ee933-37ae-49d1-8a9b-98e233195688",
        "colab": {
          "base_uri": "https://localhost:8080/",
          "height": 383
        }
      },
      "source": [
        "# File: chaos.py\n",
        "# A simple program illustrating chaotic behavior.  It prints out 20 values.\n",
        "\n",
        "def main():\n",
        "    print(\"This program illustrates a chaotic function\")\n",
        "    x = eval(input(\"Enter a number between 0 and 1: \"))\n",
        "    for i in range(20):\n",
        "        x = 3.9 * x * (1 - x)\n",
        "        print(x)\n",
        "\n",
        "main()"
      ],
      "execution_count": 0,
      "outputs": [
        {
          "output_type": "stream",
          "text": [
            "This program illustrates a chaotic function\n",
            "Enter a number between 0 and 1: 0.5\n",
            "0.975\n",
            "0.09506250000000008\n",
            "0.33549992226562525\n",
            "0.8694649252590003\n",
            "0.44263310911310905\n",
            "0.962165255336889\n",
            "0.1419727793616139\n",
            "0.4750843861996143\n",
            "0.9725789275369049\n",
            "0.1040097132674683\n",
            "0.36344760197260056\n",
            "0.90227842611257\n",
            "0.34387106474913476\n",
            "0.8799326467519814\n",
            "0.4120396173349332\n",
            "0.9448255872175185\n",
            "0.20330776813070028\n",
            "0.6316975062388134\n",
            "0.907357490716863\n",
            "0.3278335115517574\n"
          ],
          "name": "stdout"
        }
      ]
    }
  ]
}