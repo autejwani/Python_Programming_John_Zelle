{
  "nbformat": 4,
  "nbformat_minor": 0,
  "metadata": {
    "colab": {
      "name": "Chaos3.ipynb",
      "provenance": [],
      "collapsed_sections": [],
      "authorship_tag": "ABX9TyPdYgW1qM56OvsDgz+LRpym",
      "include_colab_link": true
    },
    "kernelspec": {
      "name": "python3",
      "display_name": "Python 3"
    }
  },
  "cells": [
    {
      "cell_type": "markdown",
      "metadata": {
        "id": "view-in-github",
        "colab_type": "text"
      },
      "source": [
        "<a href=\"https://colab.research.google.com/github/autejwani/Python_Programming_John_Zelle/blob/master/Chapter%201/Chaos3.ipynb\" target=\"_parent\"><img src=\"https://colab.research.google.com/assets/colab-badge.svg\" alt=\"Open In Colab\"/></a>"
      ]
    },
    {
      "cell_type": "code",
      "metadata": {
        "id": "Qr1NnZQmH-3C",
        "colab_type": "code",
        "colab": {
          "base_uri": "https://localhost:8080/",
          "height": 216
        },
        "outputId": "a254d61c-c1ff-474c-dd8f-75b7e0930b96"
      },
      "source": [
        "# File: chaos3.py\n",
        "# A simple program illustrating chaotic behavior.  It prints out 10 values.\n",
        "# Solution to Programming Exercise 3 of Chapter 1 of Python Programming:\n",
        "# An Introduction to Computer Science, 3rd Edition, Franklin, Beedle, and \n",
        "# Associates\n",
        "\n",
        "def main():\n",
        "    print(\"This program illustrates a chaotic function\")\n",
        "    x = eval(input(\"Enter a number between 0 and 1: \"))\n",
        "    for i in range(10):\n",
        "        x = 2.0 * x * (1 - x)\n",
        "        print(x)\n",
        "\n",
        "main()"
      ],
      "execution_count": 1,
      "outputs": [
        {
          "output_type": "stream",
          "text": [
            "This program illustrates a chaotic function\n",
            "Enter a number between 0 and 1: 0.8\n",
            "0.31999999999999995\n",
            "0.4352\n",
            "0.49160191999999997\n",
            "0.49985894450462726\n",
            "0.4999999602066944\n",
            "0.4999999999999968\n",
            "0.5\n",
            "0.5\n",
            "0.5\n",
            "0.5\n"
          ],
          "name": "stdout"
        }
      ]
    }
  ]
}