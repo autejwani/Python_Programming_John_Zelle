{
  "nbformat": 4,
  "nbformat_minor": 0,
  "metadata": {
    "colab": {
      "name": "Ch3Ex17.ipynb",
      "provenance": [],
      "collapsed_sections": [],
      "authorship_tag": "ABX9TyNYK+keg8lD40gG0gnhF2KX",
      "include_colab_link": true
    },
    "kernelspec": {
      "name": "python3",
      "display_name": "Python 3"
    }
  },
  "cells": [
    {
      "cell_type": "markdown",
      "metadata": {
        "id": "view-in-github",
        "colab_type": "text"
      },
      "source": [
        "<a href=\"https://colab.research.google.com/github/autejwani/Python_Programming_John_Zelle/blob/master/Ch3Ex17.ipynb\" target=\"_parent\"><img src=\"https://colab.research.google.com/assets/colab-badge.svg\" alt=\"Open In Colab\"/></a>"
      ]
    },
    {
      "cell_type": "code",
      "metadata": {
        "id": "x6nhfhcGZ1tX",
        "colab_type": "code",
        "colab": {
          "base_uri": "https://localhost:8080/",
          "height": 68
        },
        "outputId": "408632d2-8075-4e01-954b-66b916ac6539"
      },
      "source": [
        "# File: Ch3Ex17.py\n",
        "# A simple program that calculates the square root of a whole number using the guess and check method \n",
        "# Solution to Programming Exercise 17 of Chapter 3 of Python Programming:\n",
        "# An Introduction to Computer Science, 3rd Edition, Franklin, Beedle, and \n",
        "# Associates\n",
        "def main():\n",
        "  x = int(input(\"Please enter a whole number \"))\n",
        "  y = int(input(\"How many times do you want to iterate \"))\n",
        "  guess = x/2\n",
        "  for ans in range(1, y+1):\n",
        "    guess=(guess + x/guess)/2\n",
        "  print(guess)\n",
        "\n",
        "main()"
      ],
      "execution_count": 14,
      "outputs": [
        {
          "output_type": "stream",
          "text": [
            "Please enter a whole number 5\n",
            "How many times do you want to iterate 5\n",
            "2.23606797749979\n"
          ],
          "name": "stdout"
        }
      ]
    }
  ]
}