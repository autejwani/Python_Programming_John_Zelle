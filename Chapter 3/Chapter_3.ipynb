{
  "nbformat": 4,
  "nbformat_minor": 0,
  "metadata": {
    "colab": {
      "name": "Chapter 3.ipynb",
      "provenance": [],
      "collapsed_sections": []
    },
    "kernelspec": {
      "name": "python3",
      "display_name": "Python 3"
    }
  },
  "cells": [
    {
      "cell_type": "markdown",
      "metadata": {
        "id": "oSlZ0IcYQbhl",
        "colab_type": "text"
      },
      "source": [
        "##Chapter 3 Exercise 1\n",
        "Solution to Programming Exercise 1 of Chapter 3 of Python Programming: An Introduction to Computer Science, John Zelle, 3rd Edition, Franklin, Beedle, and Associates"
      ]
    },
    {
      "cell_type": "code",
      "metadata": {
        "id": "tbBO-vj4NW8D",
        "colab_type": "code",
        "colab": {}
      },
      "source": [
        "import math\n",
        "\n",
        "def ex1():\n",
        "    r = float(input(\"Please enter the radius of the sphere: \"))\n",
        "    volume = 4.0/3.0 * math.pi * r**3\n",
        "    area = 4 * math.pi * r**2\n",
        "\n",
        "    print(\"The volume is\", volume, \"cubic units.\")\n",
        "    print(\"The surface area is\", area, \"square units.\")\n",
        "\n",
        "ex1()"
      ],
      "execution_count": null,
      "outputs": []
    },
    {
      "cell_type": "markdown",
      "metadata": {
        "id": "b-8qIs9KQdKL",
        "colab_type": "text"
      },
      "source": [
        "##Chapter 3 Exercise 2\n",
        "Solution to Programming Exercise 2 of Chapter 3 of Python Programming: An Introduction to Computer Science, John Zelle, 3rd Edition, Franklin, Beedle, and Associates"
      ]
    },
    {
      "cell_type": "code",
      "metadata": {
        "id": "Xn-46C29NmwV",
        "colab_type": "code",
        "colab": {}
      },
      "source": [
        "import math\n",
        "\n",
        "def ex2():\n",
        "    diam = float(input(\"Enter the diameter of the pizza (in inches): \"))\n",
        "    price = int(input(\"Enter the price of the pizza (in cents): \"))\n",
        "    area = math.pi * (diam/2.0)**2\n",
        "    cost = price /area\n",
        "    print() \n",
        "    print(\"The cost is\", cost, \"cents per square inch.\")\n",
        "\n",
        "ex2()\n"
      ],
      "execution_count": null,
      "outputs": []
    },
    {
      "cell_type": "markdown",
      "metadata": {
        "id": "UYFZPsZcQeMD",
        "colab_type": "text"
      },
      "source": [
        "##Chapter 3 Exercise 3\n",
        "Solution to Programming Exercise 3 of Chapter 3 of Python Programming: An Introduction to Computer Science, John Zelle, 3rd Edition, Franklin, Beedle, and Associates"
      ]
    },
    {
      "cell_type": "code",
      "metadata": {
        "id": "OdOS9CHHNvKT",
        "colab_type": "code",
        "colab": {}
      },
      "source": [
        "def ex3():\n",
        "    h = int(input(\"Enter the number of hydrogen atoms: \"))\n",
        "    c = int(input(\"Enter the number of carbon atoms: \"))\n",
        "    ox = int(input(\"Enter the number of oxygen atoms: \"))\n",
        "    weight = 1.00794 * h + 12.0107 * c + 15.9994 * ox\n",
        "\n",
        "    print()\n",
        "    print(\"The molecular weight is:\", weight)\n",
        "\n",
        "ex3()"
      ],
      "execution_count": null,
      "outputs": []
    },
    {
      "cell_type": "markdown",
      "metadata": {
        "id": "-ZqcQTBIQgC5",
        "colab_type": "text"
      },
      "source": [
        "##Chapter 3 Exercise 4\n",
        "Solution to Programming Exercise 4 of Chapter 3 of Python Programming: An Introduction to Computer Science, John Zelle, 3rd Edition, Franklin, Beedle, and Associates"
      ]
    },
    {
      "cell_type": "code",
      "metadata": {
        "id": "4aSWNd_aOCZ9",
        "colab_type": "code",
        "colab": {}
      },
      "source": [
        "def ex4():\n",
        "    seconds = int(input(\"Enter number of seconds between flash and crash: \"))\n",
        "    feet = 1100 * seconds\n",
        "    miles = feet / 5280.0\n",
        "\n",
        "    print()\n",
        "    print(\"The lightning is approximately\", round(miles,1), \"miles away.\")\n",
        "\n",
        "ex4()\n"
      ],
      "execution_count": null,
      "outputs": []
    },
    {
      "cell_type": "markdown",
      "metadata": {
        "id": "H__T1VNhQg4C",
        "colab_type": "text"
      },
      "source": [
        "##Chapter 3 Exercise 5\n",
        "Solution to Programming Exercise 5 of Chapter 3 of Python Programming: An Introduction to Computer Science, John Zelle, 3rd Edition, Franklin, Beedle, and Associates"
      ]
    },
    {
      "cell_type": "code",
      "metadata": {
        "id": "TsadawvOOMV-",
        "colab_type": "code",
        "colab": {}
      },
      "source": [
        "def ex5():\n",
        "    amount = float(input(\"How many pounds of coffee do you want? \"))\n",
        "    coffeeCost = 10.5 * amount\n",
        "    shipping = 0.86 * amount + 1.5\n",
        "\n",
        "    print()\n",
        "    print(\"Cost of coffee:\", coffeeCost)\n",
        "    print(\"Shipping:      \", shipping)\n",
        "    print(\"-------------------------------\")\n",
        "    print(\"Total due:     \", coffeeCost + shipping)\n",
        "\n",
        "ex5()\n"
      ],
      "execution_count": null,
      "outputs": []
    },
    {
      "cell_type": "markdown",
      "metadata": {
        "id": "kQolxtJxQiWl",
        "colab_type": "text"
      },
      "source": [
        "##Chapter 3 Exercise 6\n",
        "Solution to Programming Exercise 6 of Chapter 3 of Python Programming: An Introduction to Computer Science, John Zelle, 3rd Edition, Franklin, Beedle, and Associates"
      ]
    },
    {
      "cell_type": "code",
      "metadata": {
        "id": "TDwEa95fONuL",
        "colab_type": "code",
        "colab": {}
      },
      "source": [
        "def ex6():\n",
        "    x1 = float(input(\"Enter the x for the first point: \"))\n",
        "    y1 = float(input(\"Enter the y for the first point: \"))\n",
        "    print()\n",
        "    x2 = float(input(\"Enter the x for the second point: \"))\n",
        "    y2 = float(input(\"Enter the y for the second point: \"))\n",
        "    \n",
        "    slope = (y2 - y1) / (x2 - x1)\n",
        "\n",
        "    print()\n",
        "    print(\"The slope of the line is\", slope)\n",
        "\n",
        "ex6()"
      ],
      "execution_count": null,
      "outputs": []
    },
    {
      "cell_type": "markdown",
      "metadata": {
        "id": "19ofkxAwQkB4",
        "colab_type": "text"
      },
      "source": [
        "##Chapter 3 Exercise 7\n",
        "Solution to Programming Exercise 7 of Chapter 3 of Python Programming: An Introduction to Computer Science, John Zelle, 3rd Edition, Franklin, Beedle, and Associates"
      ]
    },
    {
      "cell_type": "code",
      "metadata": {
        "id": "ohL9u7wvOaBq",
        "colab_type": "code",
        "colab": {}
      },
      "source": [
        "import math\n",
        "\n",
        "def ex7():\n",
        "    x1 = float(input(\"Enter the x for the first point: \"))\n",
        "    y1 = float(input(\"Enter the y for the first point: \"))\n",
        "    print()\n",
        "    x2 = float(input(\"Enter the x for the second point: \"))\n",
        "    y2 = float(input(\"Enter the y for the second point: \"))\n",
        "    \n",
        "    distance = math.sqrt((x2-x1)**2 + (y2-y1)**2)\n",
        "\n",
        "    print()\n",
        "    print(\"The distance between the points is\", distance)\n",
        "\n",
        "ex7()"
      ],
      "execution_count": null,
      "outputs": []
    },
    {
      "cell_type": "markdown",
      "metadata": {
        "id": "Jf7TOfM3QltE",
        "colab_type": "text"
      },
      "source": [
        "##Chapter 3 Exercise 8\n",
        "Solution to Programming Exercise 8 of Chapter 3 of Python Programming: An Introduction to Computer Science, John Zelle, 3rd Edition, Franklin, Beedle, and Associates"
      ]
    },
    {
      "cell_type": "code",
      "metadata": {
        "id": "BvGHVBi8OkXD",
        "colab_type": "code",
        "colab": {}
      },
      "source": [
        "def ex8():\n",
        "    year = int(input(\"Enter the year (e.g. 2020): \"))\n",
        "    c = year // 100\n",
        "    epact = (8+(c//4) - c + ((8*c + 13)//25) + 11 * (year % 19)) % 30\n",
        "\n",
        "    print()\n",
        "    print(\"The epact value is\", epact, \"days.\")\n",
        "\n",
        "ex8()"
      ],
      "execution_count": null,
      "outputs": []
    },
    {
      "cell_type": "markdown",
      "metadata": {
        "id": "AMdZgYWBQnk8",
        "colab_type": "text"
      },
      "source": [
        "##Chapter 3 Exercise 9\n",
        "Solution to Programming Exercise 9 of Chapter 3 of Python Programming: An Introduction to Computer Science, John Zelle, 3rd Edition, Franklin, Beedle, and Associates"
      ]
    },
    {
      "cell_type": "code",
      "metadata": {
        "id": "o3gVb4BOOvPS",
        "colab_type": "code",
        "colab": {}
      },
      "source": [
        "import math\n",
        "\n",
        "def ex9():\n",
        "    a = float(input(\"Enter the length of side a: \"))\n",
        "    b = float(input(\"Enter the length of side b: \"))\n",
        "    c = float(input(\"Enter the length of side c: \"))\n",
        "    \n",
        "    s = (a+b+c)/2\n",
        "    area = math.sqrt(s*(s-a)*(s-b)*(s-c))\n",
        "\n",
        "    print()\n",
        "    print(\"The area is\", area, \"square units.\")\n",
        "\n",
        "ex9()"
      ],
      "execution_count": null,
      "outputs": []
    },
    {
      "cell_type": "markdown",
      "metadata": {
        "id": "IUnpfpNwQo0f",
        "colab_type": "text"
      },
      "source": [
        "##Chapter 3 Exercise 10\n",
        "Solution to Programming Exercise 10 of Chapter 3 of Python Programming: An Introduction to Computer Science, John Zelle, 3rd Edition, Franklin, Beedle, and Associates"
      ]
    },
    {
      "cell_type": "code",
      "metadata": {
        "id": "MKUY_Ix-O3Z1",
        "colab_type": "code",
        "colab": {}
      },
      "source": [
        "import math\n",
        "\n",
        "def ex10():\n",
        "    height = float(input(\"How high must you reach? \"))\n",
        "    angle = float(input(\"What will the ladder angle be (in degrees)? \"))\n",
        "\n",
        "    radians = math.pi * angle / 180\n",
        "    length = height / math.sin(radians)\n",
        "\n",
        "    print()\n",
        "    print(\"Length of ladder required:\", length)\n",
        "\n",
        "ex10()"
      ],
      "execution_count": null,
      "outputs": []
    },
    {
      "cell_type": "markdown",
      "metadata": {
        "id": "fOvaq6EeQqOg",
        "colab_type": "text"
      },
      "source": [
        "##Chapter 3 Exercise 11\n",
        "Solution to Programming Exercise 11 of Chapter 3 of Python Programming: An Introduction to Computer Science, John Zelle, 3rd Edition, Franklin, Beedle, and Associates"
      ]
    },
    {
      "cell_type": "code",
      "metadata": {
        "id": "GiGhQMOoPFh0",
        "colab_type": "code",
        "colab": {}
      },
      "source": [
        "def ex11():\n",
        "    n = int(input(\"Please enter a value for n: \"))\n",
        "    sum = 0\n",
        "    for i in range(1,n+1):\n",
        "        sum = sum + i\n",
        "\n",
        "    print()\n",
        "    print(\"The sum from 1 to\", n, \"is:\", sum)\n",
        "\n",
        "ex11()"
      ],
      "execution_count": null,
      "outputs": []
    },
    {
      "cell_type": "markdown",
      "metadata": {
        "id": "HcTr6bqXQrxd",
        "colab_type": "text"
      },
      "source": [
        "##Chapter 3 Exercise 12\n",
        "Solution to Programming Exercise 12 of Chapter 3 of Python Programming: An Introduction to Computer Science, John Zelle, 3rd Edition, Franklin, Beedle, and Associates"
      ]
    },
    {
      "cell_type": "code",
      "metadata": {
        "id": "y75LDzFQPTQm",
        "colab_type": "code",
        "colab": {}
      },
      "source": [
        "def ex12():\n",
        "    n = int(input(\"Please enter a value for n: \"))\n",
        "    sum = 0\n",
        "    for i in range(1,n+1):\n",
        "        sum = sum + i**3\n",
        "\n",
        "    print()\n",
        "    print(\"The sum of cubes of 1 through through\", n, \"is:\", sum)\n",
        "\n",
        "ex12()"
      ],
      "execution_count": null,
      "outputs": []
    },
    {
      "cell_type": "markdown",
      "metadata": {
        "id": "r6xYA8z8QtGA",
        "colab_type": "text"
      },
      "source": [
        "##Chapter 3 Exercise 13\n",
        "Solution to Programming Exercise 13 of Chapter 3 of Python Programming: An Introduction to Computer Science, John Zelle, 3rd Edition, Franklin, Beedle, and Associates"
      ]
    },
    {
      "cell_type": "code",
      "metadata": {
        "id": "rXjqeXkAP9Gs",
        "colab_type": "code",
        "colab": {}
      },
      "source": [
        "def ex13():\n",
        "    n = int(input(\"How many numbers do you have? \"))\n",
        "    total = 0\n",
        "    for i in range(n):\n",
        "        num = float(input(\"Enter a number: \"))\n",
        "        total = total + num\n",
        "\n",
        "    print()\n",
        "    print(\"The sum of the numbers is:\", total)\n",
        "\n",
        "ex13()\n"
      ],
      "execution_count": null,
      "outputs": []
    },
    {
      "cell_type": "markdown",
      "metadata": {
        "id": "ISp4LtBYQuKS",
        "colab_type": "text"
      },
      "source": [
        "##Chapter 3 Exercise 14\n",
        "Solution to Programming Exercise 14 of Chapter 3 of Python Programming: An Introduction to Computer Science, John Zelle, 3rd Edition, Franklin, Beedle, and Associates"
      ]
    },
    {
      "cell_type": "code",
      "metadata": {
        "id": "9PttH4NWQAIG",
        "colab_type": "code",
        "colab": {}
      },
      "source": [
        "def ex14():\n",
        "    n = int(input(\"How many numbers do you have? \"))\n",
        "    total = 0\n",
        "    for i in range(n):\n",
        "        num = float(input(\"Enter a number: \"))\n",
        "        total = total + num\n",
        "\n",
        "    print()\n",
        "    print(\"The average of the numbers is:\", total/n)\n",
        "\n",
        "ex14()"
      ],
      "execution_count": null,
      "outputs": []
    },
    {
      "cell_type": "markdown",
      "metadata": {
        "id": "sANu-QNfQvWB",
        "colab_type": "text"
      },
      "source": [
        "##Chapter 3 Exercise 15\n",
        "Solution to Programming Exercise 15 of Chapter 3 of Python Programming: An Introduction to Computer Science, John Zelle, 3rd Edition, Franklin, Beedle, and Associates"
      ]
    },
    {
      "cell_type": "code",
      "metadata": {
        "id": "RZncC0yTQGp7",
        "colab_type": "code",
        "colab": {}
      },
      "source": [
        "import math\n",
        "\n",
        "def ex15():\n",
        "    n = int(input(\"How many terms should I use? \"))\n",
        "\n",
        "    total = 0.0\n",
        "    sgn = 1.0   \n",
        "    for denom in range(1, 2*n, 2):\n",
        "        total = total + sgn * 4.0/denom\n",
        "        sgn = -sgn \n",
        "\n",
        "    print(\"Approximation to pi is:\", total)\n",
        "    print(\"Difference from math.pi:\", math.pi - total)\n",
        "\n",
        "ex15()\n",
        "        "
      ],
      "execution_count": null,
      "outputs": []
    },
    {
      "cell_type": "markdown",
      "metadata": {
        "id": "Ba3C0IUVQwkL",
        "colab_type": "text"
      },
      "source": [
        "##Chapter 3 Exercise 16\n",
        "Solution to Programming Exercise 16 of Chapter 3 of Python Programming: An Introduction to Computer Science, John Zelle, 3rd Edition, Franklin, Beedle, and Associates"
      ]
    },
    {
      "cell_type": "code",
      "metadata": {
        "id": "CLdaavCvQHnP",
        "colab_type": "code",
        "colab": {}
      },
      "source": [
        "def ex16():\n",
        "    n = int(input(\"Enter the value of n: \"))\n",
        "    curr, prev = 1, 1\n",
        "    for i in range(n-2):\n",
        "        curr, prev = curr+prev, curr\n",
        "\n",
        "    print()\n",
        "    print(\"The nth Fibonacci number is\", curr)\n",
        "\n",
        "ex16()"
      ],
      "execution_count": null,
      "outputs": []
    },
    {
      "cell_type": "markdown",
      "metadata": {
        "id": "wwGSnrnKQyAK",
        "colab_type": "text"
      },
      "source": [
        "##Chapter 3 Exercise 17\n",
        "Solution to Programming Exercise 17 of Chapter 3 of Python Programming: An Introduction to Computer Science, John Zelle, 3rd Edition, Franklin, Beedle, and Associates"
      ]
    },
    {
      "cell_type": "code",
      "metadata": {
        "id": "ZNtCntGkQNm6",
        "colab_type": "code",
        "colab": {}
      },
      "source": [
        "import math\n",
        "\n",
        "def ex17():\n",
        "    x = float(input(\"Enter number to find the root of: \"))\n",
        "    n = int(input(\"How many iterations should I use? \"))\n",
        "\n",
        "    guess = x / 2.0\n",
        "    for i in range(n):\n",
        "        guess = (guess + x/guess)/2.0\n",
        "\n",
        "    print()\n",
        "    print(\"Approximate square root:\", guess)\n",
        "    print(\"Difference from math.sqrt:\", math.sqrt(x) - guess)\n",
        "\n",
        "ex17()"
      ],
      "execution_count": null,
      "outputs": []
    }
  ]
}