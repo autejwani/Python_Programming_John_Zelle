{
  "nbformat": 4,
  "nbformat_minor": 0,
  "metadata": {
    "colab": {
      "name": "Chapter 8 pt1.ipynb",
      "provenance": [],
      "collapsed_sections": []
    },
    "kernelspec": {
      "name": "python3",
      "display_name": "Python 3"
    }
  },
  "cells": [
    {
      "cell_type": "markdown",
      "metadata": {
        "id": "CibSdTEQ5oG0",
        "colab_type": "text"
      },
      "source": [
        "## Chapter 8 Exercise 1\n",
        "Solution to Programming Exercise 1 of Chapter 8 of Python Programming: An Introduction to Computer Science, John Zelle, 3rd Edition, Franklin, Beedle, and Associates"
      ]
    },
    {
      "cell_type": "code",
      "metadata": {
        "id": "0a4Yl5d5Dy3H",
        "colab_type": "code",
        "colab": {}
      },
      "source": [
        "def ex1(n):\n",
        "  x = 1;\n",
        "  y = 1;\n",
        "  for i in range(1,n+1):\n",
        "    if i==1:\n",
        "      F=1;\n",
        "    elif i==2:\n",
        "      F=1;\n",
        "      x = y;\n",
        "      y = F;\n",
        "    else:\n",
        "      F = x + y;\n",
        "      x = y;\n",
        "      y = F;\n",
        "  return F\n",
        "\n",
        "# In this case Fibonacci sequence for n = 7 is being calculated\n",
        "ex1(7)"
      ],
      "execution_count": null,
      "outputs": []
    },
    {
      "cell_type": "markdown",
      "metadata": {
        "id": "ARurK2rb6I_k",
        "colab_type": "text"
      },
      "source": [
        "## Chapter 8 Exercise 2\n",
        "Solution to Programming Exercise 2 of Chapter 8 of Python Programming: An Introduction to Computer Science, John Zelle, 3rd Edition, Franklin, Beedle, and Associates"
      ]
    },
    {
      "cell_type": "code",
      "metadata": {
        "id": "F4ulgJVBD-Ou",
        "colab_type": "code",
        "colab": {}
      },
      "source": [
        "def calculateWCI(t,v):\n",
        "  wci = 35.74 + 0.6215*t - 35.75*v**0.16 + 0.4275*t*v**0.16\n",
        "  return wci\n",
        "\n",
        "def ex2():\n",
        "  listWCI = []\n",
        "  print(\"Wind Chill Table\\n\\n\")\n",
        "  print(\"Temperature\".center(70))\n",
        "  strH = \"MPH\" + \"|\\t\"\n",
        "  for z in range(-20, 70, 10):\n",
        "      strH = strH + str(z) + \"\\t\"\n",
        "  print(strH)\n",
        "  print(\"---+\" + \"-\" * 73)\n",
        "  for y in range(5, 55, 5):\n",
        "    for x in range(-20, 70, 10):\n",
        "      listWCI.append(\"{:.2f}\".format(calculateWCI(x, y)))\n",
        "    strd = \"{0:3}|\".format(y) + \"\\t\"\n",
        "    for z in range(len(listWCI)):\n",
        "      strd = strd + listWCI[z] + \"\\t\"\n",
        "    print(strd)\n",
        "    listWCI = []\n",
        "  print(\"-\" * 77)\n",
        "  \n",
        "ex2()"
      ],
      "execution_count": null,
      "outputs": []
    },
    {
      "cell_type": "markdown",
      "metadata": {
        "id": "z5x_W1FI6w0P",
        "colab_type": "text"
      },
      "source": [
        "##Chapter 8 Exercise 3\n",
        "Solution to Programming Exercise 3 of Chapter 8 of Python Programming: An Introduction to Computer Science, John Zelle, 3rd Edition, Franklin, Beedle, and Associates"
      ]
    },
    {
      "cell_type": "code",
      "metadata": {
        "id": "XZ4k0ZZ9RUEh",
        "colab_type": "code",
        "colab": {}
      },
      "source": [
        "def ex3():\n",
        "  rate = float(input(\"What is the rate?: \"))\n",
        "  principal = float(input(\"What is the principal?: \"))\n",
        "  t = 1\n",
        "  A = principal * ((1 + rate) ** t)\n",
        "  while (A < 2 * principal):\n",
        "    t = t + 1\n",
        "    A = principal * ((1 + rate) **t)\n",
        "  print(str(t) + \" years\")\n",
        "\n",
        "ex3()"
      ],
      "execution_count": null,
      "outputs": []
    },
    {
      "cell_type": "markdown",
      "metadata": {
        "id": "2X1K5CdY68jZ",
        "colab_type": "text"
      },
      "source": [
        "##Chapter 8 Exercise 4\n",
        "Solution to Programming Exercise 4 of Chapter 8 of Python Programming: An Introduction to Computer Science, John Zelle, 3rd Edition, Franklin, Beedle, and Associates"
      ]
    },
    {
      "cell_type": "code",
      "metadata": {
        "id": "JychO870ezQ7",
        "colab_type": "code",
        "colab": {}
      },
      "source": [
        "syrlist = []\n",
        "\n",
        "def calcSyr(x):\n",
        "  if x % 2 == 0:\n",
        "    syr = x/2\n",
        "  else:\n",
        "    syr = 3 * x + 1\n",
        "  return syr\n",
        "\n",
        "def ex4():\n",
        "  x = int(input(\"Enter the initial value (an int >= 1): \"))\n",
        "  s = \"\"\n",
        "  while (x > 1):\n",
        "    syrlist.append(int(x))\n",
        "    x = calcSyr(x)\n",
        "  syrlist.append(int(x))\n",
        "  for i in range(len(syrlist)):\n",
        "    s = s + str(syrlist[i]) + \", \"\n",
        "  print(s[:len(s)-2])\n",
        "\n",
        "ex4()"
      ],
      "execution_count": null,
      "outputs": []
    },
    {
      "cell_type": "markdown",
      "metadata": {
        "id": "L13om1tS7D-t",
        "colab_type": "text"
      },
      "source": [
        "##Chapter 8 Exercise 5##\n",
        "Solution to Programming Exercise 5 of Chapter 8 of Python Programming: An Introduction to Computer Science, John Zelle, 3rd Edition, Franklin, Beedle, and Associates"
      ]
    },
    {
      "cell_type": "code",
      "metadata": {
        "id": "umEYl8z9mP-R",
        "colab_type": "code",
        "colab": {}
      },
      "source": [
        "import math\n",
        "\n",
        "def Primenum(n):\n",
        "  if n % 2 == 0:\n",
        "    return False\n",
        "  fac = 3\n",
        "  while fac <= math.sqrt(n):\n",
        "    if n % fac == 0:\n",
        "      return False\n",
        "    fac = fac + 2\n",
        "  return True\n",
        "\n",
        "def ex5():\n",
        "    n = int(input(\"Enter a value to test: \"))\n",
        "    if Primenum(n):\n",
        "        print(n, \"is prime.\")\n",
        "    else:\n",
        "        print(n, \"is not prime.\")\n",
        "ex5()"
      ],
      "execution_count": null,
      "outputs": []
    },
    {
      "cell_type": "markdown",
      "metadata": {
        "id": "WMfS1Z3S7KyQ",
        "colab_type": "text"
      },
      "source": [
        "##Chapter 8 Exercise 6\n",
        "Solution to Programming Exercise 6 of Chapter 8 of Python Programming: An Introduction to Computer Science, John Zelle, 3rd Edition, Franklin, Beedle, and Associates"
      ]
    },
    {
      "cell_type": "code",
      "metadata": {
        "id": "nOhRe0SZ2Nnx",
        "colab_type": "code",
        "colab": {}
      },
      "source": [
        "import math\n",
        "\n",
        "def Primenum(n):\n",
        "  if n % 2 == 0:\n",
        "    return False\n",
        "  fac = 3\n",
        "  while fac <= math.sqrt(n):\n",
        "    if n % fac == 0:\n",
        "      return False\n",
        "    fac = fac + 2\n",
        "  return True\n",
        "\n",
        "def ex6():\n",
        "    n = int(input(\"Enter a value to test: \"))\n",
        "    nlist = []\n",
        "    s = \"\"\n",
        "    fac = 1\n",
        "    while (fac <= n):\n",
        "      if fac == 2:\n",
        "        nlist.append(fac)\n",
        "      if Primenum(fac):\n",
        "        nlist.append(fac)\n",
        "      fac = fac + 1\n",
        "    for i in range(len(nlist)):\n",
        "      s = s + str(nlist[i]) + \", \"\n",
        "    print(s[:len(s) - 2])\n",
        "    \n",
        "ex6()"
      ],
      "execution_count": null,
      "outputs": []
    },
    {
      "cell_type": "markdown",
      "metadata": {
        "id": "wDPUoy0m7dID",
        "colab_type": "text"
      },
      "source": [
        "##Chapter 8 Exercise 7\n",
        "Solution to Programming Exercise 7 of Chapter 8 of Python Programming: An Introduction to Computer Science, John Zelle, 3rd Edition, Franklin, Beedle, and Associates"
      ]
    },
    {
      "cell_type": "code",
      "metadata": {
        "id": "Tnasl0dDHsr8",
        "colab_type": "code",
        "colab": {}
      },
      "source": [
        "import math\n",
        "\n",
        "def isEven(n):\n",
        "  if n % 2 == 0:\n",
        "    return True\n",
        "\n",
        "def Primenum(n):\n",
        "  if n % 2 == 0:\n",
        "    return False\n",
        "  fac = 3\n",
        "  while fac <= math.sqrt(n):\n",
        "    if n % fac == 0:\n",
        "      return False\n",
        "    fac = fac + 2\n",
        "  return True\n",
        "\n",
        "def findPN(nlist, n):\n",
        "  for i in range(0, len(nlist)-2):\n",
        "    if nlist[i] + nlist[len(nlist)-1] == n:\n",
        "      print(str(nlist[i]) + ' and ' + str(nlist[len(nlist)-1]) + ' add up to ' + str(n))\n",
        "\n",
        "def ex7():\n",
        "  n = int(input(\"Enter a value to test: \"))\n",
        "  if isEven(n):\n",
        "    fac = 1\n",
        "    nlist = []\n",
        "    while (fac <= n):\n",
        "      if fac == 2:\n",
        "        nlist.append(fac)\n",
        "      if Primenum(fac):\n",
        "        nlist.append(fac)\n",
        "      fac = fac + 1\n",
        "    findPN(nlist, n)\n",
        "\n",
        "ex7()"
      ],
      "execution_count": null,
      "outputs": []
    },
    {
      "cell_type": "markdown",
      "metadata": {
        "id": "5u3Jeo607jDj",
        "colab_type": "text"
      },
      "source": [
        "##Chapter 8 Exercise 8\n",
        "Solution to Programming Exercise 8 of Chapter 8 of Python Programming: An Introduction to Computer Science, John Zelle, 3rd Edition, Franklin, Beedle, and Associates"
      ]
    },
    {
      "cell_type": "code",
      "metadata": {
        "id": "BdfQTI5WSYmi",
        "colab_type": "code",
        "colab": {}
      },
      "source": [
        "def equation(m,n):\n",
        "  print(n)\n",
        "  while m > 0:\n",
        "    n, m = m, n%m\n",
        "  return n\n",
        "\n",
        "def ex8():\n",
        "  m = int(input(\"Enter a value to test: \"))\n",
        "  n = int(input(\"Enter another value to test: \"))\n",
        "  print(\"The greatest common divisor of\", m, n, \"is\", equation(m,n))\n",
        "ex8()"
      ],
      "execution_count": null,
      "outputs": []
    }
  ]
}
